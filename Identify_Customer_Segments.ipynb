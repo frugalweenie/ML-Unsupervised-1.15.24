{
 "cells": [
  {
   "cell_type": "markdown",
   "metadata": {},
   "source": [
    "\n",
    "\n",
    "# Project: Identify Customer Segments\n",
    "\n",
    "In this project, you will apply unsupervised learning techniques to identify segments of the population that form the core customer base for a mail-order sales company in Germany. These segments can then be used to direct marketing campaigns towards audiences that will have the highest expected rate of returns. The data that you will use has been provided by our partners at Bertelsmann Arvato Analytics, and represents a real-life data science task.\n",
    "\n",
    "This notebook will help you complete this task by providing a framework within which you will perform your analysis steps. In each step of the project, you will see some text describing the subtask that you will perform, followed by one or more code cells for you to complete your work. **Feel free to add additional code and markdown cells as you go along so that you can explore everything in precise chunks.** The code cells provided in the base template will outline only the major tasks, and will usually not be enough to cover all of the minor tasks that comprise it.\n",
    "\n",
    "It should be noted that while there will be precise guidelines on how you should handle certain tasks in the project, there will also be places where an exact specification is not provided. **There will be times in the project where you will need to make and justify your own decisions on how to treat the data.** These are places where there may not be only one way to handle the data. In real-life tasks, there may be many valid ways to approach an analysis task. One of the most important things you can do is clearly document your approach so that other scientists can understand the decisions you've made.\n",
    "\n",
    "At the end of most sections, there will be a Markdown cell labeled **Discussion**. In these cells, you will report your findings for the completed section, as well as document the decisions that you made in your approach to each subtask. **Your project will be evaluated not just on the code used to complete the tasks outlined, but also your communication about your observations and conclusions at each stage.**"
   ]
  },
  {
   "cell_type": "code",
   "execution_count": 1,
   "metadata": {},
   "outputs": [
    {
     "data": {
      "text/plain": [
       "'\\nImport note: The classroom currently uses sklearn version 0.19.\\nIf you need to use an imputer, it is available in sklearn.preprocessing.Imputer,\\ninstead of sklearn.impute as in newer versions of sklearn.\\n'"
      ]
     },
     "execution_count": 1,
     "metadata": {},
     "output_type": "execute_result"
    }
   ],
   "source": [
    "# import libraries here; add more as necessary\n",
    "import numpy as np\n",
    "import pandas as pd\n",
    "import matplotlib.pyplot as plt\n",
    "import seaborn as sns\n",
    "from sklearn.preprocessing import StandardScaler, Imputer\n",
    "from sklearn.decomposition import PCA\n",
    "from sklearn.cluster import KMeans\n",
    "\n",
    "# magic word for producing visualizations in notebook\n",
    "\n",
    "%matplotlib inline\n",
    "\n",
    "'''\n",
    "Import note: The classroom currently uses sklearn version 0.19.\n",
    "If you need to use an imputer, it is available in sklearn.preprocessing.Imputer,\n",
    "instead of sklearn.impute as in newer versions of sklearn.\n",
    "'''"
   ]
  },
  {
   "cell_type": "markdown",
   "metadata": {},
   "source": [
    "\n",
    "### Step 0: Load the Data\n",
    "\n",
    "There are four files associated with this project (not including this one):\n",
    "\n",
    "- `Udacity_AZDIAS_Subset.csv`: Demographics data for the general population of Germany; 891211 persons (rows) x 85 features (columns).\n",
    "- `Udacity_CUSTOMERS_Subset.csv`: Demographics data for customers of a mail-order company; 191652 persons (rows) x 85 features (columns).\n",
    "- `Data_Dictionary.md`: Detailed information file about the features in the provided datasets.\n",
    "- `AZDIAS_Feature_Summary.csv`: Summary of feature attributes for demographics data; 85 features (rows) x 4 columns\n",
    "\n",
    "Each row of the demographics files represents a single person, but also includes information outside of individuals, including information about their household, building, and neighborhood. You will use this information to cluster the general population into groups with similar demographic properties. Then, you will see how the people in the customers dataset fit into those created clusters. The hope here is that certain clusters are over-represented in the customers data, as compared to the general population; those over-represented clusters will be assumed to be part of the core userbase. This information can then be used for further applications, such as targeting for a marketing campaign.\n",
    "\n",
    "To start off with, load in the demographics data for the general population into a pandas DataFrame, and do the same for the feature attributes summary. Note for all of the `.csv` data files in this project: they're semicolon (`;`) delimited, so you'll need an additional argument in your [`read_csv()`](https://pandas.pydata.org/pandas-docs/stable/generated/pandas.read_csv.html) call to read in the data properly. Also, considering the size of the main dataset, it may take some time for it to load completely.\n",
    "\n",
    "Once the dataset is loaded, it's recommended that you take a little bit of time just browsing the general structure of the dataset and feature summary file. You'll be getting deep into the innards of the cleaning in the first major step of the project, so gaining some general familiarity can help you get your bearings."
   ]
  },
  {
   "cell_type": "code",
   "execution_count": 2,
   "metadata": {},
   "outputs": [],
   "source": [
    "# Load in the general demographics data.\n",
    "azdias = pd.read_csv('Udacity_AZDIAS_Subset.csv', sep=';')\n",
    "\n",
    "# Load in the feature summary file.\n",
    "feat_info = pd.read_csv('AZDIAS_Feature_Summary.csv', sep=';')"
   ]
  },
  {
   "cell_type": "code",
   "execution_count": 3,
   "metadata": {},
   "outputs": [
    {
     "data": {
      "text/plain": [
       "(891221, 85)"
      ]
     },
     "execution_count": 3,
     "metadata": {},
     "output_type": "execute_result"
    }
   ],
   "source": [
    "azdias.shape"
   ]
  },
  {
   "cell_type": "code",
   "execution_count": 4,
   "metadata": {},
   "outputs": [
    {
     "data": {
      "text/html": [
       "<div>\n",
       "<style scoped>\n",
       "    .dataframe tbody tr th:only-of-type {\n",
       "        vertical-align: middle;\n",
       "    }\n",
       "\n",
       "    .dataframe tbody tr th {\n",
       "        vertical-align: top;\n",
       "    }\n",
       "\n",
       "    .dataframe thead th {\n",
       "        text-align: right;\n",
       "    }\n",
       "</style>\n",
       "<table border=\"1\" class=\"dataframe\">\n",
       "  <thead>\n",
       "    <tr style=\"text-align: right;\">\n",
       "      <th></th>\n",
       "      <th>AGER_TYP</th>\n",
       "      <th>ALTERSKATEGORIE_GROB</th>\n",
       "      <th>ANREDE_KZ</th>\n",
       "      <th>CJT_GESAMTTYP</th>\n",
       "      <th>FINANZ_MINIMALIST</th>\n",
       "      <th>FINANZ_SPARER</th>\n",
       "      <th>FINANZ_VORSORGER</th>\n",
       "      <th>FINANZ_ANLEGER</th>\n",
       "      <th>FINANZ_UNAUFFAELLIGER</th>\n",
       "      <th>FINANZ_HAUSBAUER</th>\n",
       "      <th>...</th>\n",
       "      <th>PLZ8_ANTG1</th>\n",
       "      <th>PLZ8_ANTG2</th>\n",
       "      <th>PLZ8_ANTG3</th>\n",
       "      <th>PLZ8_ANTG4</th>\n",
       "      <th>PLZ8_BAUMAX</th>\n",
       "      <th>PLZ8_HHZ</th>\n",
       "      <th>PLZ8_GBZ</th>\n",
       "      <th>ARBEIT</th>\n",
       "      <th>ORTSGR_KLS9</th>\n",
       "      <th>RELAT_AB</th>\n",
       "    </tr>\n",
       "  </thead>\n",
       "  <tbody>\n",
       "    <tr>\n",
       "      <th>0</th>\n",
       "      <td>-1</td>\n",
       "      <td>2</td>\n",
       "      <td>1</td>\n",
       "      <td>2.0</td>\n",
       "      <td>3</td>\n",
       "      <td>4</td>\n",
       "      <td>3</td>\n",
       "      <td>5</td>\n",
       "      <td>5</td>\n",
       "      <td>3</td>\n",
       "      <td>...</td>\n",
       "      <td>NaN</td>\n",
       "      <td>NaN</td>\n",
       "      <td>NaN</td>\n",
       "      <td>NaN</td>\n",
       "      <td>NaN</td>\n",
       "      <td>NaN</td>\n",
       "      <td>NaN</td>\n",
       "      <td>NaN</td>\n",
       "      <td>NaN</td>\n",
       "      <td>NaN</td>\n",
       "    </tr>\n",
       "    <tr>\n",
       "      <th>1</th>\n",
       "      <td>-1</td>\n",
       "      <td>1</td>\n",
       "      <td>2</td>\n",
       "      <td>5.0</td>\n",
       "      <td>1</td>\n",
       "      <td>5</td>\n",
       "      <td>2</td>\n",
       "      <td>5</td>\n",
       "      <td>4</td>\n",
       "      <td>5</td>\n",
       "      <td>...</td>\n",
       "      <td>2.0</td>\n",
       "      <td>3.0</td>\n",
       "      <td>2.0</td>\n",
       "      <td>1.0</td>\n",
       "      <td>1.0</td>\n",
       "      <td>5.0</td>\n",
       "      <td>4.0</td>\n",
       "      <td>3.0</td>\n",
       "      <td>5.0</td>\n",
       "      <td>4.0</td>\n",
       "    </tr>\n",
       "    <tr>\n",
       "      <th>2</th>\n",
       "      <td>-1</td>\n",
       "      <td>3</td>\n",
       "      <td>2</td>\n",
       "      <td>3.0</td>\n",
       "      <td>1</td>\n",
       "      <td>4</td>\n",
       "      <td>1</td>\n",
       "      <td>2</td>\n",
       "      <td>3</td>\n",
       "      <td>5</td>\n",
       "      <td>...</td>\n",
       "      <td>3.0</td>\n",
       "      <td>3.0</td>\n",
       "      <td>1.0</td>\n",
       "      <td>0.0</td>\n",
       "      <td>1.0</td>\n",
       "      <td>4.0</td>\n",
       "      <td>4.0</td>\n",
       "      <td>3.0</td>\n",
       "      <td>5.0</td>\n",
       "      <td>2.0</td>\n",
       "    </tr>\n",
       "    <tr>\n",
       "      <th>3</th>\n",
       "      <td>2</td>\n",
       "      <td>4</td>\n",
       "      <td>2</td>\n",
       "      <td>2.0</td>\n",
       "      <td>4</td>\n",
       "      <td>2</td>\n",
       "      <td>5</td>\n",
       "      <td>2</td>\n",
       "      <td>1</td>\n",
       "      <td>2</td>\n",
       "      <td>...</td>\n",
       "      <td>2.0</td>\n",
       "      <td>2.0</td>\n",
       "      <td>2.0</td>\n",
       "      <td>0.0</td>\n",
       "      <td>1.0</td>\n",
       "      <td>3.0</td>\n",
       "      <td>4.0</td>\n",
       "      <td>2.0</td>\n",
       "      <td>3.0</td>\n",
       "      <td>3.0</td>\n",
       "    </tr>\n",
       "    <tr>\n",
       "      <th>4</th>\n",
       "      <td>-1</td>\n",
       "      <td>3</td>\n",
       "      <td>1</td>\n",
       "      <td>5.0</td>\n",
       "      <td>4</td>\n",
       "      <td>3</td>\n",
       "      <td>4</td>\n",
       "      <td>1</td>\n",
       "      <td>3</td>\n",
       "      <td>2</td>\n",
       "      <td>...</td>\n",
       "      <td>2.0</td>\n",
       "      <td>4.0</td>\n",
       "      <td>2.0</td>\n",
       "      <td>1.0</td>\n",
       "      <td>2.0</td>\n",
       "      <td>3.0</td>\n",
       "      <td>3.0</td>\n",
       "      <td>4.0</td>\n",
       "      <td>6.0</td>\n",
       "      <td>5.0</td>\n",
       "    </tr>\n",
       "  </tbody>\n",
       "</table>\n",
       "<p>5 rows × 85 columns</p>\n",
       "</div>"
      ],
      "text/plain": [
       "   AGER_TYP  ALTERSKATEGORIE_GROB  ANREDE_KZ  CJT_GESAMTTYP  \\\n",
       "0        -1                     2          1            2.0   \n",
       "1        -1                     1          2            5.0   \n",
       "2        -1                     3          2            3.0   \n",
       "3         2                     4          2            2.0   \n",
       "4        -1                     3          1            5.0   \n",
       "\n",
       "   FINANZ_MINIMALIST  FINANZ_SPARER  FINANZ_VORSORGER  FINANZ_ANLEGER  \\\n",
       "0                  3              4                 3               5   \n",
       "1                  1              5                 2               5   \n",
       "2                  1              4                 1               2   \n",
       "3                  4              2                 5               2   \n",
       "4                  4              3                 4               1   \n",
       "\n",
       "   FINANZ_UNAUFFAELLIGER  FINANZ_HAUSBAUER    ...     PLZ8_ANTG1  PLZ8_ANTG2  \\\n",
       "0                      5                 3    ...            NaN         NaN   \n",
       "1                      4                 5    ...            2.0         3.0   \n",
       "2                      3                 5    ...            3.0         3.0   \n",
       "3                      1                 2    ...            2.0         2.0   \n",
       "4                      3                 2    ...            2.0         4.0   \n",
       "\n",
       "   PLZ8_ANTG3  PLZ8_ANTG4  PLZ8_BAUMAX  PLZ8_HHZ  PLZ8_GBZ  ARBEIT  \\\n",
       "0         NaN         NaN          NaN       NaN       NaN     NaN   \n",
       "1         2.0         1.0          1.0       5.0       4.0     3.0   \n",
       "2         1.0         0.0          1.0       4.0       4.0     3.0   \n",
       "3         2.0         0.0          1.0       3.0       4.0     2.0   \n",
       "4         2.0         1.0          2.0       3.0       3.0     4.0   \n",
       "\n",
       "   ORTSGR_KLS9  RELAT_AB  \n",
       "0          NaN       NaN  \n",
       "1          5.0       4.0  \n",
       "2          5.0       2.0  \n",
       "3          3.0       3.0  \n",
       "4          6.0       5.0  \n",
       "\n",
       "[5 rows x 85 columns]"
      ]
     },
     "execution_count": 4,
     "metadata": {},
     "output_type": "execute_result"
    }
   ],
   "source": [
    "azdias.head()"
   ]
  },
  {
   "cell_type": "code",
   "execution_count": 5,
   "metadata": {},
   "outputs": [
    {
     "name": "stdout",
     "output_type": "stream",
     "text": [
      "<class 'pandas.core.frame.DataFrame'>\n",
      "RangeIndex: 891221 entries, 0 to 891220\n",
      "Data columns (total 85 columns):\n",
      "AGER_TYP                 891221 non-null int64\n",
      "ALTERSKATEGORIE_GROB     891221 non-null int64\n",
      "ANREDE_KZ                891221 non-null int64\n",
      "CJT_GESAMTTYP            886367 non-null float64\n",
      "FINANZ_MINIMALIST        891221 non-null int64\n",
      "FINANZ_SPARER            891221 non-null int64\n",
      "FINANZ_VORSORGER         891221 non-null int64\n",
      "FINANZ_ANLEGER           891221 non-null int64\n",
      "FINANZ_UNAUFFAELLIGER    891221 non-null int64\n",
      "FINANZ_HAUSBAUER         891221 non-null int64\n",
      "FINANZTYP                891221 non-null int64\n",
      "GEBURTSJAHR              891221 non-null int64\n",
      "GFK_URLAUBERTYP          886367 non-null float64\n",
      "GREEN_AVANTGARDE         891221 non-null int64\n",
      "HEALTH_TYP               891221 non-null int64\n",
      "LP_LEBENSPHASE_FEIN      886367 non-null float64\n",
      "LP_LEBENSPHASE_GROB      886367 non-null float64\n",
      "LP_FAMILIE_FEIN          886367 non-null float64\n",
      "LP_FAMILIE_GROB          886367 non-null float64\n",
      "LP_STATUS_FEIN           886367 non-null float64\n",
      "LP_STATUS_GROB           886367 non-null float64\n",
      "NATIONALITAET_KZ         891221 non-null int64\n",
      "PRAEGENDE_JUGENDJAHRE    891221 non-null int64\n",
      "RETOURTYP_BK_S           886367 non-null float64\n",
      "SEMIO_SOZ                891221 non-null int64\n",
      "SEMIO_FAM                891221 non-null int64\n",
      "SEMIO_REL                891221 non-null int64\n",
      "SEMIO_MAT                891221 non-null int64\n",
      "SEMIO_VERT               891221 non-null int64\n",
      "SEMIO_LUST               891221 non-null int64\n",
      "SEMIO_ERL                891221 non-null int64\n",
      "SEMIO_KULT               891221 non-null int64\n",
      "SEMIO_RAT                891221 non-null int64\n",
      "SEMIO_KRIT               891221 non-null int64\n",
      "SEMIO_DOM                891221 non-null int64\n",
      "SEMIO_KAEM               891221 non-null int64\n",
      "SEMIO_PFLICHT            891221 non-null int64\n",
      "SEMIO_TRADV              891221 non-null int64\n",
      "SHOPPER_TYP              891221 non-null int64\n",
      "SOHO_KZ                  817722 non-null float64\n",
      "TITEL_KZ                 817722 non-null float64\n",
      "VERS_TYP                 891221 non-null int64\n",
      "ZABEOTYP                 891221 non-null int64\n",
      "ALTER_HH                 817722 non-null float64\n",
      "ANZ_PERSONEN             817722 non-null float64\n",
      "ANZ_TITEL                817722 non-null float64\n",
      "HH_EINKOMMEN_SCORE       872873 non-null float64\n",
      "KK_KUNDENTYP             306609 non-null float64\n",
      "W_KEIT_KIND_HH           783619 non-null float64\n",
      "WOHNDAUER_2008           817722 non-null float64\n",
      "ANZ_HAUSHALTE_AKTIV      798073 non-null float64\n",
      "ANZ_HH_TITEL             794213 non-null float64\n",
      "GEBAEUDETYP              798073 non-null float64\n",
      "KONSUMNAEHE              817252 non-null float64\n",
      "MIN_GEBAEUDEJAHR         798073 non-null float64\n",
      "OST_WEST_KZ              798073 non-null object\n",
      "WOHNLAGE                 798073 non-null float64\n",
      "CAMEO_DEUG_2015          792242 non-null object\n",
      "CAMEO_DEU_2015           792242 non-null object\n",
      "CAMEO_INTL_2015          792242 non-null object\n",
      "KBA05_ANTG1              757897 non-null float64\n",
      "KBA05_ANTG2              757897 non-null float64\n",
      "KBA05_ANTG3              757897 non-null float64\n",
      "KBA05_ANTG4              757897 non-null float64\n",
      "KBA05_BAUMAX             757897 non-null float64\n",
      "KBA05_GBZ                757897 non-null float64\n",
      "BALLRAUM                 797481 non-null float64\n",
      "EWDICHTE                 797481 non-null float64\n",
      "INNENSTADT               797481 non-null float64\n",
      "GEBAEUDETYP_RASTER       798066 non-null float64\n",
      "KKK                      770025 non-null float64\n",
      "MOBI_REGIO               757897 non-null float64\n",
      "ONLINE_AFFINITAET        886367 non-null float64\n",
      "REGIOTYP                 770025 non-null float64\n",
      "KBA13_ANZAHL_PKW         785421 non-null float64\n",
      "PLZ8_ANTG1               774706 non-null float64\n",
      "PLZ8_ANTG2               774706 non-null float64\n",
      "PLZ8_ANTG3               774706 non-null float64\n",
      "PLZ8_ANTG4               774706 non-null float64\n",
      "PLZ8_BAUMAX              774706 non-null float64\n",
      "PLZ8_HHZ                 774706 non-null float64\n",
      "PLZ8_GBZ                 774706 non-null float64\n",
      "ARBEIT                   794005 non-null float64\n",
      "ORTSGR_KLS9              794005 non-null float64\n",
      "RELAT_AB                 794005 non-null float64\n",
      "dtypes: float64(49), int64(32), object(4)\n",
      "memory usage: 578.0+ MB\n"
     ]
    }
   ],
   "source": [
    "azdias.info()"
   ]
  },
  {
   "cell_type": "code",
   "execution_count": 6,
   "metadata": {},
   "outputs": [
    {
     "data": {
      "text/plain": [
       "(85, 4)"
      ]
     },
     "execution_count": 6,
     "metadata": {},
     "output_type": "execute_result"
    }
   ],
   "source": [
    "# Check the structure of the data after it's loaded (e.g. print the number of\n",
    "# rows and columns, print the first few rows).\n",
    "\n",
    "feat_info.shape"
   ]
  },
  {
   "cell_type": "code",
   "execution_count": 7,
   "metadata": {},
   "outputs": [
    {
     "data": {
      "text/html": [
       "<div>\n",
       "<style scoped>\n",
       "    .dataframe tbody tr th:only-of-type {\n",
       "        vertical-align: middle;\n",
       "    }\n",
       "\n",
       "    .dataframe tbody tr th {\n",
       "        vertical-align: top;\n",
       "    }\n",
       "\n",
       "    .dataframe thead th {\n",
       "        text-align: right;\n",
       "    }\n",
       "</style>\n",
       "<table border=\"1\" class=\"dataframe\">\n",
       "  <thead>\n",
       "    <tr style=\"text-align: right;\">\n",
       "      <th></th>\n",
       "      <th>attribute</th>\n",
       "      <th>information_level</th>\n",
       "      <th>type</th>\n",
       "      <th>missing_or_unknown</th>\n",
       "    </tr>\n",
       "  </thead>\n",
       "  <tbody>\n",
       "    <tr>\n",
       "      <th>0</th>\n",
       "      <td>AGER_TYP</td>\n",
       "      <td>person</td>\n",
       "      <td>categorical</td>\n",
       "      <td>[-1,0]</td>\n",
       "    </tr>\n",
       "    <tr>\n",
       "      <th>1</th>\n",
       "      <td>ALTERSKATEGORIE_GROB</td>\n",
       "      <td>person</td>\n",
       "      <td>ordinal</td>\n",
       "      <td>[-1,0,9]</td>\n",
       "    </tr>\n",
       "    <tr>\n",
       "      <th>2</th>\n",
       "      <td>ANREDE_KZ</td>\n",
       "      <td>person</td>\n",
       "      <td>categorical</td>\n",
       "      <td>[-1,0]</td>\n",
       "    </tr>\n",
       "    <tr>\n",
       "      <th>3</th>\n",
       "      <td>CJT_GESAMTTYP</td>\n",
       "      <td>person</td>\n",
       "      <td>categorical</td>\n",
       "      <td>[0]</td>\n",
       "    </tr>\n",
       "    <tr>\n",
       "      <th>4</th>\n",
       "      <td>FINANZ_MINIMALIST</td>\n",
       "      <td>person</td>\n",
       "      <td>ordinal</td>\n",
       "      <td>[-1]</td>\n",
       "    </tr>\n",
       "  </tbody>\n",
       "</table>\n",
       "</div>"
      ],
      "text/plain": [
       "              attribute information_level         type missing_or_unknown\n",
       "0              AGER_TYP            person  categorical             [-1,0]\n",
       "1  ALTERSKATEGORIE_GROB            person      ordinal           [-1,0,9]\n",
       "2             ANREDE_KZ            person  categorical             [-1,0]\n",
       "3         CJT_GESAMTTYP            person  categorical                [0]\n",
       "4     FINANZ_MINIMALIST            person      ordinal               [-1]"
      ]
     },
     "execution_count": 7,
     "metadata": {},
     "output_type": "execute_result"
    }
   ],
   "source": [
    "feat_info.head()"
   ]
  },
  {
   "cell_type": "code",
   "execution_count": 8,
   "metadata": {},
   "outputs": [
    {
     "name": "stdout",
     "output_type": "stream",
     "text": [
      "<class 'pandas.core.frame.DataFrame'>\n",
      "RangeIndex: 85 entries, 0 to 84\n",
      "Data columns (total 4 columns):\n",
      "attribute             85 non-null object\n",
      "information_level     85 non-null object\n",
      "type                  85 non-null object\n",
      "missing_or_unknown    85 non-null object\n",
      "dtypes: object(4)\n",
      "memory usage: 2.7+ KB\n"
     ]
    }
   ],
   "source": [
    "feat_info.info()"
   ]
  },
  {
   "cell_type": "code",
   "execution_count": 9,
   "metadata": {},
   "outputs": [
    {
     "data": {
      "text/plain": [
       "<bound method NDFrame.describe of                 attribute information_level         type missing_or_unknown\n",
       "0                AGER_TYP            person  categorical             [-1,0]\n",
       "1    ALTERSKATEGORIE_GROB            person      ordinal           [-1,0,9]\n",
       "2               ANREDE_KZ            person  categorical             [-1,0]\n",
       "3           CJT_GESAMTTYP            person  categorical                [0]\n",
       "4       FINANZ_MINIMALIST            person      ordinal               [-1]\n",
       "5           FINANZ_SPARER            person      ordinal               [-1]\n",
       "6        FINANZ_VORSORGER            person      ordinal               [-1]\n",
       "7          FINANZ_ANLEGER            person      ordinal               [-1]\n",
       "8   FINANZ_UNAUFFAELLIGER            person      ordinal               [-1]\n",
       "9        FINANZ_HAUSBAUER            person      ordinal               [-1]\n",
       "10              FINANZTYP            person  categorical               [-1]\n",
       "11            GEBURTSJAHR            person      numeric                [0]\n",
       "12        GFK_URLAUBERTYP            person  categorical                 []\n",
       "13       GREEN_AVANTGARDE            person  categorical                 []\n",
       "14             HEALTH_TYP            person      ordinal             [-1,0]\n",
       "15    LP_LEBENSPHASE_FEIN            person        mixed                [0]\n",
       "16    LP_LEBENSPHASE_GROB            person        mixed                [0]\n",
       "17        LP_FAMILIE_FEIN            person  categorical                [0]\n",
       "18        LP_FAMILIE_GROB            person  categorical                [0]\n",
       "19         LP_STATUS_FEIN            person  categorical                [0]\n",
       "20         LP_STATUS_GROB            person  categorical                [0]\n",
       "21       NATIONALITAET_KZ            person  categorical             [-1,0]\n",
       "22  PRAEGENDE_JUGENDJAHRE            person        mixed             [-1,0]\n",
       "23         RETOURTYP_BK_S            person      ordinal                [0]\n",
       "24              SEMIO_SOZ            person      ordinal             [-1,9]\n",
       "25              SEMIO_FAM            person      ordinal             [-1,9]\n",
       "26              SEMIO_REL            person      ordinal             [-1,9]\n",
       "27              SEMIO_MAT            person      ordinal             [-1,9]\n",
       "28             SEMIO_VERT            person      ordinal             [-1,9]\n",
       "29             SEMIO_LUST            person      ordinal             [-1,9]\n",
       "..                    ...               ...          ...                ...\n",
       "55            OST_WEST_KZ          building  categorical               [-1]\n",
       "56               WOHNLAGE          building        mixed               [-1]\n",
       "57        CAMEO_DEUG_2015     microcell_rr4  categorical             [-1,X]\n",
       "58         CAMEO_DEU_2015     microcell_rr4  categorical               [XX]\n",
       "59        CAMEO_INTL_2015     microcell_rr4        mixed            [-1,XX]\n",
       "60            KBA05_ANTG1     microcell_rr3      ordinal               [-1]\n",
       "61            KBA05_ANTG2     microcell_rr3      ordinal               [-1]\n",
       "62            KBA05_ANTG3     microcell_rr3      ordinal               [-1]\n",
       "63            KBA05_ANTG4     microcell_rr3      ordinal               [-1]\n",
       "64           KBA05_BAUMAX     microcell_rr3        mixed             [-1,0]\n",
       "65              KBA05_GBZ     microcell_rr3      ordinal             [-1,0]\n",
       "66               BALLRAUM          postcode      ordinal               [-1]\n",
       "67               EWDICHTE          postcode      ordinal               [-1]\n",
       "68             INNENSTADT          postcode      ordinal               [-1]\n",
       "69     GEBAEUDETYP_RASTER        region_rr1      ordinal                 []\n",
       "70                    KKK        region_rr1      ordinal             [-1,0]\n",
       "71             MOBI_REGIO        region_rr1      ordinal                 []\n",
       "72      ONLINE_AFFINITAET        region_rr1      ordinal                 []\n",
       "73               REGIOTYP        region_rr1      ordinal             [-1,0]\n",
       "74       KBA13_ANZAHL_PKW    macrocell_plz8      numeric                 []\n",
       "75             PLZ8_ANTG1    macrocell_plz8      ordinal               [-1]\n",
       "76             PLZ8_ANTG2    macrocell_plz8      ordinal               [-1]\n",
       "77             PLZ8_ANTG3    macrocell_plz8      ordinal               [-1]\n",
       "78             PLZ8_ANTG4    macrocell_plz8      ordinal               [-1]\n",
       "79            PLZ8_BAUMAX    macrocell_plz8        mixed             [-1,0]\n",
       "80               PLZ8_HHZ    macrocell_plz8      ordinal               [-1]\n",
       "81               PLZ8_GBZ    macrocell_plz8      ordinal               [-1]\n",
       "82                 ARBEIT         community      ordinal             [-1,9]\n",
       "83            ORTSGR_KLS9         community      ordinal             [-1,0]\n",
       "84               RELAT_AB         community      ordinal             [-1,9]\n",
       "\n",
       "[85 rows x 4 columns]>"
      ]
     },
     "execution_count": 9,
     "metadata": {},
     "output_type": "execute_result"
    }
   ],
   "source": [
    "feat_info.describe"
   ]
  },
  {
   "cell_type": "markdown",
   "metadata": {},
   "source": [
    "> **Tip**: Add additional cells to keep everything in reasonably-sized chunks! Keyboard shortcut `esc --> a` (press escape to enter command mode, then press the 'A' key) adds a new cell before the active cell, and `esc --> b` adds a new cell after the active cell. If you need to convert an active cell to a markdown cell, use `esc --> m` and to convert to a code cell, use `esc --> y`. \n",
    "\n",
    "## Step 1: Preprocessing\n",
    "\n",
    "### Step 1.1: Assess Missing Data\n",
    "\n",
    "The feature summary file contains a summary of properties for each demographics data column. You will use this file to help you make cleaning decisions during this stage of the project. First of all, you should assess the demographics data in terms of missing data. Pay attention to the following points as you perform your analysis, and take notes on what you observe. Make sure that you fill in the **Discussion** cell with your findings and decisions at the end of each step that has one!\n",
    "\n",
    "#### Step 1.1.1: Convert Missing Value Codes to NaNs\n",
    "The fourth column of the feature attributes summary (loaded in above as `feat_info`) documents the codes from the data dictionary that indicate missing or unknown data. While the file encodes this as a list (e.g. `[-1,0]`), this will get read in as a string object. You'll need to do a little bit of parsing to make use of it to identify and clean the data. Convert data that matches a 'missing' or 'unknown' value code into a numpy NaN value. You might want to see how much data takes on a 'missing' or 'unknown' code, and how much data is naturally missing, as a point of interest.\n",
    "\n",
    "**As one more reminder, you are encouraged to add additional cells to break up your analysis into manageable chunks.**"
   ]
  },
  {
   "cell_type": "code",
   "execution_count": 10,
   "metadata": {},
   "outputs": [],
   "source": [
    "feat_info_copy = feat_info"
   ]
  },
  {
   "cell_type": "code",
   "execution_count": 11,
   "metadata": {},
   "outputs": [
    {
     "data": {
      "text/plain": [
       "[-1]        26\n",
       "[-1,9]      17\n",
       "[-1,0]      16\n",
       "[0]         12\n",
       "[]          10\n",
       "[XX]         1\n",
       "[-1,X]       1\n",
       "[-1,XX]      1\n",
       "[-1,0,9]     1\n",
       "Name: missing_or_unknown, dtype: int64"
      ]
     },
     "execution_count": 11,
     "metadata": {},
     "output_type": "execute_result"
    }
   ],
   "source": [
    "# List values by each row in the missing_or_unknown column\n",
    "\n",
    "feat_info_copy['missing_or_unknown'].value_counts()"
   ]
  },
  {
   "cell_type": "code",
   "execution_count": 12,
   "metadata": {},
   "outputs": [
    {
     "name": "stdout",
     "output_type": "stream",
     "text": [
      "Percentage of missing values before NaN conversion:\n",
      "AGER_TYP                  0.000000\n",
      "ALTERSKATEGORIE_GROB      0.000000\n",
      "ANREDE_KZ                 0.000000\n",
      "CJT_GESAMTTYP             0.544646\n",
      "FINANZ_MINIMALIST         0.000000\n",
      "FINANZ_SPARER             0.000000\n",
      "FINANZ_VORSORGER          0.000000\n",
      "FINANZ_ANLEGER            0.000000\n",
      "FINANZ_UNAUFFAELLIGER     0.000000\n",
      "FINANZ_HAUSBAUER          0.000000\n",
      "FINANZTYP                 0.000000\n",
      "GEBURTSJAHR               0.000000\n",
      "GFK_URLAUBERTYP           0.544646\n",
      "GREEN_AVANTGARDE          0.000000\n",
      "HEALTH_TYP                0.000000\n",
      "LP_LEBENSPHASE_FEIN       0.544646\n",
      "LP_LEBENSPHASE_GROB       0.544646\n",
      "LP_FAMILIE_FEIN           0.544646\n",
      "LP_FAMILIE_GROB           0.544646\n",
      "LP_STATUS_FEIN            0.544646\n",
      "LP_STATUS_GROB            0.544646\n",
      "NATIONALITAET_KZ          0.000000\n",
      "PRAEGENDE_JUGENDJAHRE     0.000000\n",
      "RETOURTYP_BK_S            0.544646\n",
      "SEMIO_SOZ                 0.000000\n",
      "SEMIO_FAM                 0.000000\n",
      "SEMIO_REL                 0.000000\n",
      "SEMIO_MAT                 0.000000\n",
      "SEMIO_VERT                0.000000\n",
      "SEMIO_LUST                0.000000\n",
      "                           ...    \n",
      "OST_WEST_KZ              10.451729\n",
      "WOHNLAGE                 10.451729\n",
      "CAMEO_DEUG_2015          11.106000\n",
      "CAMEO_DEU_2015           11.106000\n",
      "CAMEO_INTL_2015          11.106000\n",
      "KBA05_ANTG1              14.959701\n",
      "KBA05_ANTG2              14.959701\n",
      "KBA05_ANTG3              14.959701\n",
      "KBA05_ANTG4              14.959701\n",
      "KBA05_BAUMAX             14.959701\n",
      "KBA05_GBZ                14.959701\n",
      "BALLRAUM                 10.518154\n",
      "EWDICHTE                 10.518154\n",
      "INNENSTADT               10.518154\n",
      "GEBAEUDETYP_RASTER       10.452514\n",
      "KKK                      13.598872\n",
      "MOBI_REGIO               14.959701\n",
      "ONLINE_AFFINITAET         0.544646\n",
      "REGIOTYP                 13.598872\n",
      "KBA13_ANZAHL_PKW         11.871354\n",
      "PLZ8_ANTG1               13.073637\n",
      "PLZ8_ANTG2               13.073637\n",
      "PLZ8_ANTG3               13.073637\n",
      "PLZ8_ANTG4               13.073637\n",
      "PLZ8_BAUMAX              13.073637\n",
      "PLZ8_HHZ                 13.073637\n",
      "PLZ8_GBZ                 13.073637\n",
      "ARBEIT                   10.908181\n",
      "ORTSGR_KLS9              10.908181\n",
      "RELAT_AB                 10.908181\n",
      "Length: 85, dtype: float64\n"
     ]
    }
   ],
   "source": [
    "# Find missing data column by running null total then divide by azdias original\n",
    "\n",
    "missing_before_conversion = (azdias.isnull().sum() / len(azdias)) * 100\n",
    "print(\"Percentage of missing values before NaN conversion:\")\n",
    "print(missing_before_conversion)"
   ]
  },
  {
   "cell_type": "code",
   "execution_count": 13,
   "metadata": {},
   "outputs": [],
   "source": [
    "azdias_missing = azdias"
   ]
  },
  {
   "cell_type": "code",
   "execution_count": 14,
   "metadata": {},
   "outputs": [],
   "source": [
    "# Convert missing to NaNs\n",
    "\n",
    "feat_info['missing_or_unknown'].value_counts()\n",
    "for indx in range(len(feat_info_copy)):\n",
    "    missing_or_unknown = feat_info_copy.iloc[indx]['missing_or_unknown']\n",
    "    missing_or_unknown = missing_or_unknown.strip('[')\n",
    "    missing_or_unknown = missing_or_unknown.strip(']')\n",
    "    missing_or_unknown = missing_or_unknown.split(sep=',')\n",
    "    missing_or_unknown = [int(value) if (value!='X' and value!='XX' and value!='') else value for value in missing_or_unknown]\n",
    "    if missing_or_unknown != ['']:\n",
    "        for col in azdias.columns:\n",
    "            azdias[col] = azdias[col].replace({feat_info_copy.iloc[indx]['attribute']: missing_or_unknown}, np.nan)"
   ]
  },
  {
   "cell_type": "code",
   "execution_count": 15,
   "metadata": {},
   "outputs": [
    {
     "name": "stdout",
     "output_type": "stream",
     "text": [
      "\n",
      "Percentage of missing values after NaN conversion:\n",
      "AGER_TYP                  0.000000\n",
      "ALTERSKATEGORIE_GROB      0.000000\n",
      "ANREDE_KZ                 0.000000\n",
      "CJT_GESAMTTYP             0.544646\n",
      "FINANZ_MINIMALIST         0.000000\n",
      "FINANZ_SPARER             0.000000\n",
      "FINANZ_VORSORGER          0.000000\n",
      "FINANZ_ANLEGER            0.000000\n",
      "FINANZ_UNAUFFAELLIGER     0.000000\n",
      "FINANZ_HAUSBAUER          0.000000\n",
      "FINANZTYP                 0.000000\n",
      "GEBURTSJAHR               0.000000\n",
      "GFK_URLAUBERTYP           0.544646\n",
      "GREEN_AVANTGARDE          0.000000\n",
      "HEALTH_TYP                0.000000\n",
      "LP_LEBENSPHASE_FEIN       0.544646\n",
      "LP_LEBENSPHASE_GROB       0.544646\n",
      "LP_FAMILIE_FEIN           0.544646\n",
      "LP_FAMILIE_GROB           0.544646\n",
      "LP_STATUS_FEIN            0.544646\n",
      "LP_STATUS_GROB            0.544646\n",
      "NATIONALITAET_KZ          0.000000\n",
      "PRAEGENDE_JUGENDJAHRE     0.000000\n",
      "RETOURTYP_BK_S            0.544646\n",
      "SEMIO_SOZ                 0.000000\n",
      "SEMIO_FAM                 0.000000\n",
      "SEMIO_REL                 0.000000\n",
      "SEMIO_MAT                 0.000000\n",
      "SEMIO_VERT                0.000000\n",
      "SEMIO_LUST                0.000000\n",
      "                           ...    \n",
      "OST_WEST_KZ              10.451729\n",
      "WOHNLAGE                 10.451729\n",
      "CAMEO_DEUG_2015          11.106000\n",
      "CAMEO_DEU_2015           11.106000\n",
      "CAMEO_INTL_2015          11.106000\n",
      "KBA05_ANTG1              14.959701\n",
      "KBA05_ANTG2              14.959701\n",
      "KBA05_ANTG3              14.959701\n",
      "KBA05_ANTG4              14.959701\n",
      "KBA05_BAUMAX             14.959701\n",
      "KBA05_GBZ                14.959701\n",
      "BALLRAUM                 10.518154\n",
      "EWDICHTE                 10.518154\n",
      "INNENSTADT               10.518154\n",
      "GEBAEUDETYP_RASTER       10.452514\n",
      "KKK                      13.598872\n",
      "MOBI_REGIO               14.959701\n",
      "ONLINE_AFFINITAET         0.544646\n",
      "REGIOTYP                 13.598872\n",
      "KBA13_ANZAHL_PKW         11.871354\n",
      "PLZ8_ANTG1               13.073637\n",
      "PLZ8_ANTG2               13.073637\n",
      "PLZ8_ANTG3               13.073637\n",
      "PLZ8_ANTG4               13.073637\n",
      "PLZ8_BAUMAX              13.073637\n",
      "PLZ8_HHZ                 13.073637\n",
      "PLZ8_GBZ                 13.073637\n",
      "ARBEIT                   10.908181\n",
      "ORTSGR_KLS9              10.908181\n",
      "RELAT_AB                 10.908181\n",
      "Length: 85, dtype: float64\n"
     ]
    }
   ],
   "source": [
    "# Display missing values after NaN conversion\n",
    "\n",
    "missing_after_conversion = (azdias.isnull().sum() / len(azdias)) * 100\n",
    "print(\"\\nPercentage of missing values after NaN conversion:\")\n",
    "print(missing_after_conversion)"
   ]
  },
  {
   "cell_type": "code",
   "execution_count": 16,
   "metadata": {},
   "outputs": [
    {
     "data": {
      "text/plain": [
       "(891221, 85)"
      ]
     },
     "execution_count": 16,
     "metadata": {},
     "output_type": "execute_result"
    }
   ],
   "source": [
    "#verify \n",
    "azdias.shape"
   ]
  },
  {
   "cell_type": "code",
   "execution_count": 17,
   "metadata": {},
   "outputs": [
    {
     "data": {
      "text/plain": [
       "<bound method NDFrame.describe of         AGER_TYP  ALTERSKATEGORIE_GROB  ANREDE_KZ  CJT_GESAMTTYP  \\\n",
       "0             -1                     2          1            2.0   \n",
       "1             -1                     1          2            5.0   \n",
       "2             -1                     3          2            3.0   \n",
       "3              2                     4          2            2.0   \n",
       "4             -1                     3          1            5.0   \n",
       "5              3                     1          2            2.0   \n",
       "6             -1                     2          2            5.0   \n",
       "7             -1                     1          1            3.0   \n",
       "8             -1                     3          1            3.0   \n",
       "9             -1                     3          2            4.0   \n",
       "10             0                     3          2            1.0   \n",
       "11            -1                     2          1            6.0   \n",
       "12            -1                     3          1            6.0   \n",
       "13            -1                     1          2            5.0   \n",
       "14            -1                     3          1            6.0   \n",
       "15             1                     4          2            4.0   \n",
       "16            -1                     1          2            1.0   \n",
       "17            -1                     2          1            6.0   \n",
       "18            -1                     2          2            6.0   \n",
       "19            -1                     3          1            3.0   \n",
       "20            -1                     2          2            4.0   \n",
       "21            -1                     2          1            3.0   \n",
       "22            -1                     1          1            4.0   \n",
       "23            -1                     3          1            3.0   \n",
       "24            -1                     3          2            6.0   \n",
       "25            -1                     1          1            3.0   \n",
       "26            -1                     3          1            3.0   \n",
       "27            -1                     3          1            4.0   \n",
       "28            -1                     3          1            2.0   \n",
       "29             2                     4          2            1.0   \n",
       "...          ...                   ...        ...            ...   \n",
       "891191         1                     4          2            1.0   \n",
       "891192        -1                     1          2            3.0   \n",
       "891193         2                     4          1            3.0   \n",
       "891194        -1                     3          1            4.0   \n",
       "891195         2                     4          2            6.0   \n",
       "891196        -1                     2          2            6.0   \n",
       "891197        -1                     3          2            1.0   \n",
       "891198        -1                     3          1            5.0   \n",
       "891199        -1                     2          1            3.0   \n",
       "891200        -1                     1          2            3.0   \n",
       "891201        -1                     3          1            3.0   \n",
       "891202        -1                     2          2            5.0   \n",
       "891203        -1                     4          2            1.0   \n",
       "891204        -1                     3          1            5.0   \n",
       "891205         1                     4          1            2.0   \n",
       "891206        -1                     1          2            4.0   \n",
       "891207         1                     3          2            1.0   \n",
       "891208        -1                     4          1            2.0   \n",
       "891209        -1                     1          2            5.0   \n",
       "891210        -1                     3          1            5.0   \n",
       "891211        -1                     3          1            2.0   \n",
       "891212        -1                     4          1            1.0   \n",
       "891213        -1                     4          2            5.0   \n",
       "891214        -1                     1          2            4.0   \n",
       "891215        -1                     2          2            6.0   \n",
       "891216        -1                     3          2            5.0   \n",
       "891217        -1                     2          1            4.0   \n",
       "891218        -1                     2          2            4.0   \n",
       "891219        -1                     1          1            3.0   \n",
       "891220        -1                     4          1            1.0   \n",
       "\n",
       "        FINANZ_MINIMALIST  FINANZ_SPARER  FINANZ_VORSORGER  FINANZ_ANLEGER  \\\n",
       "0                       3              4                 3               5   \n",
       "1                       1              5                 2               5   \n",
       "2                       1              4                 1               2   \n",
       "3                       4              2                 5               2   \n",
       "4                       4              3                 4               1   \n",
       "5                       3              1                 5               2   \n",
       "6                       1              5                 1               5   \n",
       "7                       3              3                 4               1   \n",
       "8                       4              4                 2               4   \n",
       "9                       2              4                 2               3   \n",
       "10                      2              2                 5               3   \n",
       "11                      3              4                 3               5   \n",
       "12                      5              3                 4               2   \n",
       "13                      1              4                 3               5   \n",
       "14                      3              4                 3               5   \n",
       "15                      4              1                 5               1   \n",
       "16                      4              3                 1               4   \n",
       "17                      3              4                 3               5   \n",
       "18                      2              4                 1               5   \n",
       "19                      5              2                 3               1   \n",
       "20                      4              3                 1               4   \n",
       "21                      3              4                 1               2   \n",
       "22                      1              5                 3               5   \n",
       "23                      5              3                 3               2   \n",
       "24                      3              4                 3               5   \n",
       "25                      3              5                 3               5   \n",
       "26                      5              2                 4               2   \n",
       "27                      3              3                 4               1   \n",
       "28                      3              2                 4               3   \n",
       "29                      5              1                 5               2   \n",
       "...                   ...            ...               ...             ...   \n",
       "891191                  4              1                 5               1   \n",
       "891192                  1              5                 2               5   \n",
       "891193                  4              1                 5               1   \n",
       "891194                  4              3                 4               2   \n",
       "891195                  3              1                 5               1   \n",
       "891196                  1              5                 2               5   \n",
       "891197                  3              2                 4               1   \n",
       "891198                  2              5                 3               4   \n",
       "891199                  2              5                 2               3   \n",
       "891200                  1              5                 3               5   \n",
       "891201                  4              2                 3               2   \n",
       "891202                  1              4                 1               2   \n",
       "891203                  4              1                 5               1   \n",
       "891204                  4              3                 4               4   \n",
       "891205                  4              2                 4               3   \n",
       "891206                  3              4                 2               4   \n",
       "891207                  5              1                 5               1   \n",
       "891208                  5              2                 4               2   \n",
       "891209                  1              4                 2               3   \n",
       "891210                  3              3                 4               2   \n",
       "891211                  3              2                 4               3   \n",
       "891212                  3              1                 5               1   \n",
       "891213                  3              3                 3               5   \n",
       "891214                  1              5                 2               3   \n",
       "891215                  1              5                 2               4   \n",
       "891216                  1              4                 2               5   \n",
       "891217                  3              3                 3               2   \n",
       "891218                  2              4                 2               5   \n",
       "891219                  1              5                 3               5   \n",
       "891220                  4              2                 5               2   \n",
       "\n",
       "        FINANZ_UNAUFFAELLIGER  FINANZ_HAUSBAUER    ...     PLZ8_ANTG1  \\\n",
       "0                           5                 3    ...            NaN   \n",
       "1                           4                 5    ...            2.0   \n",
       "2                           3                 5    ...            3.0   \n",
       "3                           1                 2    ...            2.0   \n",
       "4                           3                 2    ...            2.0   \n",
       "5                           2                 5    ...            2.0   \n",
       "6                           4                 3    ...            3.0   \n",
       "7                           3                 2    ...            3.0   \n",
       "8                           2                 2    ...            2.0   \n",
       "9                           5                 4    ...            2.0   \n",
       "10                          1                 5    ...            2.0   \n",
       "11                          5                 3    ...            NaN   \n",
       "12                          4                 1    ...            3.0   \n",
       "13                          5                 2    ...            2.0   \n",
       "14                          5                 3    ...            NaN   \n",
       "15                          1                 4    ...            NaN   \n",
       "16                          5                 1    ...            3.0   \n",
       "17                          5                 3    ...            NaN   \n",
       "18                          4                 1    ...            2.0   \n",
       "19                          3                 1    ...            2.0   \n",
       "20                          5                 1    ...            NaN   \n",
       "21                          5                 1    ...            1.0   \n",
       "22                          5                 5    ...            2.0   \n",
       "23                          2                 1    ...            NaN   \n",
       "24                          5                 3    ...            NaN   \n",
       "25                          4                 3    ...            2.0   \n",
       "26                          3                 1    ...            NaN   \n",
       "27                          2                 2    ...            2.0   \n",
       "28                          3                 2    ...            3.0   \n",
       "29                          1                 3    ...            3.0   \n",
       "...                       ...               ...    ...            ...   \n",
       "891191                      1                 4    ...            3.0   \n",
       "891192                      3                 5    ...            4.0   \n",
       "891193                      2                 5    ...            2.0   \n",
       "891194                      3                 1    ...            3.0   \n",
       "891195                      1                 5    ...            2.0   \n",
       "891196                      4                 3    ...            2.0   \n",
       "891197                      3                 3    ...            2.0   \n",
       "891198                      5                 3    ...            4.0   \n",
       "891199                      3                 4    ...            1.0   \n",
       "891200                      5                 5    ...            1.0   \n",
       "891201                      2                 3    ...            1.0   \n",
       "891202                      5                 4    ...            1.0   \n",
       "891203                      3                 4    ...            2.0   \n",
       "891204                      2                 1    ...            2.0   \n",
       "891205                      3                 4    ...            1.0   \n",
       "891206                      4                 2    ...            3.0   \n",
       "891207                      2                 4    ...            2.0   \n",
       "891208                      3                 1    ...            3.0   \n",
       "891209                      4                 4    ...            1.0   \n",
       "891210                      2                 2    ...            2.0   \n",
       "891211                      3                 2    ...            1.0   \n",
       "891212                      1                 5    ...            1.0   \n",
       "891213                      3                 2    ...            2.0   \n",
       "891214                      3                 4    ...            1.0   \n",
       "891215                      5                 4    ...            2.0   \n",
       "891216                      4                 4    ...            3.0   \n",
       "891217                      2                 3    ...            1.0   \n",
       "891218                      4                 3    ...            4.0   \n",
       "891219                      5                 5    ...            1.0   \n",
       "891220                      1                 5    ...            3.0   \n",
       "\n",
       "        PLZ8_ANTG2  PLZ8_ANTG3  PLZ8_ANTG4  PLZ8_BAUMAX  PLZ8_HHZ  PLZ8_GBZ  \\\n",
       "0              NaN         NaN         NaN          NaN       NaN       NaN   \n",
       "1              3.0         2.0         1.0          1.0       5.0       4.0   \n",
       "2              3.0         1.0         0.0          1.0       4.0       4.0   \n",
       "3              2.0         2.0         0.0          1.0       3.0       4.0   \n",
       "4              4.0         2.0         1.0          2.0       3.0       3.0   \n",
       "5              3.0         1.0         1.0          1.0       5.0       5.0   \n",
       "6              3.0         1.0         0.0          1.0       5.0       5.0   \n",
       "7              3.0         1.0         0.0          1.0       4.0       4.0   \n",
       "8              3.0         2.0         1.0          1.0       3.0       3.0   \n",
       "9              3.0         2.0         1.0          1.0       3.0       3.0   \n",
       "10             4.0         2.0         0.0          2.0       3.0       3.0   \n",
       "11             NaN         NaN         NaN          NaN       NaN       NaN   \n",
       "12             3.0         1.0         0.0          1.0       5.0       5.0   \n",
       "13             1.0         1.0         1.0          1.0       3.0       3.0   \n",
       "14             NaN         NaN         NaN          NaN       NaN       NaN   \n",
       "15             NaN         NaN         NaN          NaN       NaN       NaN   \n",
       "16             3.0         1.0         0.0          1.0       3.0       4.0   \n",
       "17             NaN         NaN         NaN          NaN       NaN       NaN   \n",
       "18             3.0         2.0         1.0          1.0       3.0       3.0   \n",
       "19             4.0         2.0         1.0          2.0       5.0       4.0   \n",
       "20             NaN         NaN         NaN          NaN       NaN       NaN   \n",
       "21             4.0         3.0         2.0          4.0       4.0       3.0   \n",
       "22             4.0         2.0         1.0          2.0       4.0       3.0   \n",
       "23             NaN         NaN         NaN          NaN       NaN       NaN   \n",
       "24             NaN         NaN         NaN          NaN       NaN       NaN   \n",
       "25             2.0         0.0         0.0          1.0       4.0       5.0   \n",
       "26             NaN         NaN         NaN          NaN       NaN       NaN   \n",
       "27             3.0         3.0         2.0          4.0       5.0       3.0   \n",
       "28             3.0         1.0         0.0          1.0       5.0       5.0   \n",
       "29             2.0         2.0         0.0          1.0       3.0       4.0   \n",
       "...            ...         ...         ...          ...       ...       ...   \n",
       "891191         3.0         1.0         0.0          1.0       4.0       5.0   \n",
       "891192         2.0         1.0         0.0          1.0       3.0       3.0   \n",
       "891193         4.0         1.0         0.0          2.0       2.0       2.0   \n",
       "891194         2.0         2.0         0.0          1.0       4.0       4.0   \n",
       "891195         3.0         2.0         1.0          1.0       4.0       3.0   \n",
       "891196         3.0         2.0         1.0          1.0       3.0       3.0   \n",
       "891197         3.0         2.0         1.0          1.0       4.0       4.0   \n",
       "891198         2.0         1.0         0.0          1.0       4.0       5.0   \n",
       "891199         4.0         3.0         2.0          5.0       5.0       3.0   \n",
       "891200         4.0         2.0         1.0          2.0       3.0       3.0   \n",
       "891201         4.0         3.0         1.0          3.0       4.0       3.0   \n",
       "891202         4.0         3.0         2.0          5.0       4.0       2.0   \n",
       "891203         3.0         2.0         1.0          1.0       3.0       3.0   \n",
       "891204         3.0         1.0         0.0          1.0       3.0       4.0   \n",
       "891205         4.0         3.0         1.0          3.0       3.0       2.0   \n",
       "891206         2.0         1.0         0.0          1.0       4.0       5.0   \n",
       "891207         3.0         2.0         2.0          4.0       4.0       2.0   \n",
       "891208         2.0         0.0         0.0          1.0       3.0       3.0   \n",
       "891209         4.0         2.0         1.0          5.0       5.0       4.0   \n",
       "891210         3.0         2.0         1.0          1.0       3.0       3.0   \n",
       "891211         4.0         2.0         0.0          2.0       3.0       2.0   \n",
       "891212         3.0         3.0         2.0          5.0       4.0       1.0   \n",
       "891213         4.0         2.0         1.0          2.0       5.0       5.0   \n",
       "891214         4.0         3.0         2.0          5.0       5.0       2.0   \n",
       "891215         4.0         2.0         1.0          2.0       4.0       4.0   \n",
       "891216         2.0         0.0         0.0          1.0       2.0       3.0   \n",
       "891217         3.0         3.0         2.0          4.0       5.0       3.0   \n",
       "891218         2.0         0.0         0.0          1.0       3.0       4.0   \n",
       "891219         4.0         3.0         1.0          5.0       1.0       1.0   \n",
       "891220         3.0         1.0         0.0          1.0       4.0       4.0   \n",
       "\n",
       "        ARBEIT  ORTSGR_KLS9  RELAT_AB  \n",
       "0          NaN          NaN       NaN  \n",
       "1          3.0          5.0       4.0  \n",
       "2          3.0          5.0       2.0  \n",
       "3          2.0          3.0       3.0  \n",
       "4          4.0          6.0       5.0  \n",
       "5          2.0          3.0       3.0  \n",
       "6          4.0          6.0       3.0  \n",
       "7          2.0          5.0       2.0  \n",
       "8          2.0          4.0       3.0  \n",
       "9          2.0          3.0       1.0  \n",
       "10         4.0          6.0       5.0  \n",
       "11         NaN          NaN       NaN  \n",
       "12         3.0          6.0       4.0  \n",
       "13         3.0          6.0       4.0  \n",
       "14         NaN          NaN       NaN  \n",
       "15         4.0          8.0       5.0  \n",
       "16         1.0          2.0       1.0  \n",
       "17         NaN          NaN       NaN  \n",
       "18         3.0          4.0       3.0  \n",
       "19         4.0          6.0       3.0  \n",
       "20         3.0          4.0       1.0  \n",
       "21         5.0          7.0       5.0  \n",
       "22         4.0          5.0       5.0  \n",
       "23         3.0          6.0       2.0  \n",
       "24         NaN          NaN       NaN  \n",
       "25         3.0          2.0       5.0  \n",
       "26         4.0          3.0       5.0  \n",
       "27         4.0          7.0       5.0  \n",
       "28         3.0          4.0       1.0  \n",
       "29         2.0          4.0       3.0  \n",
       "...        ...          ...       ...  \n",
       "891191     1.0          3.0       1.0  \n",
       "891192     3.0          5.0       1.0  \n",
       "891193     4.0          6.0       4.0  \n",
       "891194     4.0          8.0       5.0  \n",
       "891195     4.0          7.0       5.0  \n",
       "891196     3.0          4.0       5.0  \n",
       "891197     3.0          9.0       5.0  \n",
       "891198     3.0          9.0       5.0  \n",
       "891199     3.0          7.0       3.0  \n",
       "891200     4.0          6.0       5.0  \n",
       "891201     3.0          7.0       5.0  \n",
       "891202     4.0          8.0       5.0  \n",
       "891203     4.0          8.0       5.0  \n",
       "891204     4.0          7.0       3.0  \n",
       "891205     3.0          7.0       5.0  \n",
       "891206     3.0          4.0       3.0  \n",
       "891207     1.0          5.0       1.0  \n",
       "891208     4.0          2.0       5.0  \n",
       "891209     4.0          5.0       5.0  \n",
       "891210     3.0          9.0       5.0  \n",
       "891211     3.0          5.0       5.0  \n",
       "891212     3.0          9.0       5.0  \n",
       "891213     3.0          4.0       4.0  \n",
       "891214     3.0          7.0       3.0  \n",
       "891215     2.0          5.0       2.0  \n",
       "891216     NaN          NaN       NaN  \n",
       "891217     4.0          6.0       5.0  \n",
       "891218     2.0          2.0       3.0  \n",
       "891219     4.0          7.0       5.0  \n",
       "891220     3.0          4.0       5.0  \n",
       "\n",
       "[891221 rows x 85 columns]>"
      ]
     },
     "execution_count": 17,
     "metadata": {},
     "output_type": "execute_result"
    }
   ],
   "source": [
    "azdias.describe"
   ]
  },
  {
   "cell_type": "markdown",
   "metadata": {},
   "source": [
    "All missing values have been re-encoded with NaN."
   ]
  },
  {
   "cell_type": "markdown",
   "metadata": {},
   "source": [
    "#### Step 1.1.2: Assess Missing Data in Each Column\n",
    "\n",
    "How much missing data is present in each column? There are a few columns that are outliers in terms of the proportion of values that are missing. You will want to use matplotlib's [`hist()`](https://matplotlib.org/api/_as_gen/matplotlib.pyplot.hist.html) function to visualize the distribution of missing value counts to find these columns. Identify and document these columns. While some of these columns might have justifications for keeping or re-encoding the data, for this project you should just remove them from the dataframe. (Feel free to make remarks about these outlier columns in the discussion, however!)\n",
    "\n",
    "For the remaining features, are there any patterns in which columns have, or share, missing data?"
   ]
  },
  {
   "cell_type": "code",
   "execution_count": 18,
   "metadata": {},
   "outputs": [],
   "source": [
    "# Perform an assessment of how much missing data there is in each column of the\n",
    "# dataset.\n",
    "\n",
    "missing_by_column =(azdias.isnull().sum()/len(azdias))*100\n",
    "sorted_blank_values =  missing_by_column.sort_values(ascending=False)"
   ]
  },
  {
   "cell_type": "code",
   "execution_count": 19,
   "metadata": {},
   "outputs": [
    {
     "data": {
      "image/png": "[encoded data removed]",
      "text/plain": [
       "<matplotlib.figure.Figure at 0x7f904dbe9c18>"
      ]
     },
     "metadata": {
      "needs_background": "light"
     },
     "output_type": "display_data"
    }
   ],
   "source": [
    "# Plot bar graphy by decending order\n",
    "\n",
    "plt.figure(figsize=(18, 10))\n",
    "sorted_blank_values.plot.bar()\n",
    "plt.xlabel('Column Names')\n",
    "plt.ylabel('Percentage of Blank Values')\n",
    "plt.title('Percentage of Blank Values in Columns')\n",
    "plt.xticks(rotation=90) \n",
    "plt.show()"
   ]
  },
  {
   "cell_type": "code",
   "execution_count": 20,
   "metadata": {},
   "outputs": [],
   "source": [
    "# Identify other outliers \n",
    "# Find attributes missing more than 12% of data\n",
    "\n",
    "missing_by_column_12 = missing_by_column[missing_by_column>12]"
   ]
  },
  {
   "cell_type": "code",
   "execution_count": 21,
   "metadata": {},
   "outputs": [
    {
     "name": "stdout",
     "output_type": "stream",
     "text": [
      "Attributes (or columns) missing 12% or more of values:\n",
      "KK_KUNDENTYP                  : 65.60%\n",
      "KBA05_ANTG1                   : 14.96%\n",
      "KBA05_ANTG2                   : 14.96%\n",
      "KBA05_ANTG3                   : 14.96%\n",
      "KBA05_ANTG4                   : 14.96%\n",
      "KBA05_BAUMAX                  : 14.96%\n",
      "KBA05_GBZ                     : 14.96%\n",
      "MOBI_REGIO                    : 14.96%\n",
      "REGIOTYP                      : 13.60%\n",
      "KKK                           : 13.60%\n",
      "PLZ8_ANTG3                    : 13.07%\n",
      "PLZ8_ANTG1                    : 13.07%\n",
      "PLZ8_GBZ                      : 13.07%\n",
      "PLZ8_ANTG2                    : 13.07%\n",
      "PLZ8_HHZ                      : 13.07%\n",
      "PLZ8_BAUMAX                   : 13.07%\n",
      "PLZ8_ANTG4                    : 13.07%\n",
      "W_KEIT_KIND_HH                : 12.07%\n"
     ]
    }
   ],
   "source": [
    "print(\"Attributes (or columns) missing 12% or more of values:\")\n",
    "for column, percentage_missing in sorted_blank_values.items():\n",
    "    if percentage_missing >= 12:\n",
    "        print(f\"{column.ljust(30)}: {percentage_missing:.2f}%\")"
   ]
  },
  {
   "cell_type": "markdown",
   "metadata": {},
   "source": [
    "Below is a description of attributes that are missing 12% or more of data and is taken from the data dictionary.\n",
    "\n",
    "| Feature            | Feature Code | Feature Group                | Attribute Definition                         |\n",
    "|:---------------------:|:--------------:|:-------------------------------:|:--------------------------------------------:|\n",
    "| KK_KUNDENTYP         | 2.5            | 2. Household-level     | Consumer pattern over the past 12 months     |\n",
    "| W_KEIT_KIND_HH       | 2.6            | 2. Household-level     | Likelihood of children in the household     |\n",
    "| KBA05_ANTG1          | 5.1            | 5. RR3 micro-cell      | Number of 1-2 family houses in the microcell|\n",
    "| KBA05_ANTG2          | 5.2            | 5. RR3 micro-cell      | Number of 3-5 family houses in the microcell|\n",
    "| KBA05_ANTG3          | 5.3            | 5. RR3 micro-cell      | Number of 6-10 family houses in the microcell|\n",
    "| KBA05_ANTG4          | 5.5            | 5. RR3 micro-cell      | Number of 10+ family houses in the microcell|\n",
    "| KBA05_BAUMAX         | 5.5            | 5. RR3 micro-cell      | Most common building type within the microcell|\n",
    "| KBA05_GBZ            | 5.6            | 5. RR3 micro-cell      | Number of buildings in the microcell          |\n",
    "| KKK                  | 7.2            | 7. RR1 neighborhood    | Purchasing power in the region               |\n",
    "| MOBI_REGIO           | 7.3            | 7. RR1 neighborhood    | Movement patterns                            |\n",
    "| REGIOTYP             | 7.5            | 7. RR1 neighborhood    | Neighborhood typology                         |\n",
    "| PLZ8_ANTG1           | 8.2            | 8. PLZ8 macro-cell     | Number of 1-2 family houses in the PLZ8 region|\n",
    "| PLZ8_ANTG2           | 8.3            | 8. PLZ8 macro-cell     | Number of 3-5 family houses in the PLZ8 region|\n",
    "| PLZ8_ANTG3           | 8.4            | 8. PLZ8 macro-cell     | Number of 6-10 family houses in the PLZ8 region|\n",
    "| PLZ8_ANTG4           | 8.5            | 8. PLZ8 macro-cell     | Number of 10+ family houses in the PLZ8 region|\n",
    "| PLZ8_BAUMAX          | 8.6            | 8. PLZ8 macro-cell     | Most common building type within the PLZ8 region|\n",
    "| PLZ8_HHZ             | 8.7            | 8. PLZ8 macro-cell     | Number of households within the PLZ8 region  |\n",
    "| PLZ8_GBZ             | 8.8            | 8. PLZ8 macro-cell     | Number of buildings within the PLZ8 region   |\n"
   ]
  },
  {
   "cell_type": "code",
   "execution_count": 22,
   "metadata": {},
   "outputs": [],
   "source": [
    "# Create hardcode list of features to drop\n",
    "\n",
    "columns_drop_12plus = ['KK_KUNDENTYP','W_KEIT_KIND_HH','KBA05_ANTG1','KBA05_ANTG2','KBA05_ANTG3','KBA05_ANTG4','KBA05_GBZ','KKK','MOBI_REGIO','REGIOTYP','PLZ8_ANTG1','PLZ8_ANTG2','PLZ8_ANTG3','PLZ8_ANTG4','PLZ8_HHZ','PLZ8_GBZ']"
   ]
  },
  {
   "cell_type": "code",
   "execution_count": 23,
   "metadata": {},
   "outputs": [],
   "source": [
    "azdias_copy = azdias"
   ]
  },
  {
   "cell_type": "code",
   "execution_count": 24,
   "metadata": {},
   "outputs": [
    {
     "data": {
      "text/plain": [
       "(891221, 85)"
      ]
     },
     "execution_count": 24,
     "metadata": {},
     "output_type": "execute_result"
    }
   ],
   "source": [
    "azdias_copy.shape"
   ]
  },
  {
   "cell_type": "code",
   "execution_count": 25,
   "metadata": {},
   "outputs": [],
   "source": [
    "# Apply drop by columns to remove those missing more than 12% of data\n",
    "\n",
    "azdias_copy = azdias_copy.drop(columns_drop_12plus, axis=1)"
   ]
  },
  {
   "cell_type": "code",
   "execution_count": 26,
   "metadata": {},
   "outputs": [
    {
     "data": {
      "text/plain": [
       "(891221, 69)"
      ]
     },
     "execution_count": 26,
     "metadata": {},
     "output_type": "execute_result"
    }
   ],
   "source": [
    "# Verify drop\n",
    "\n",
    "azdias_copy.shape"
   ]
  },
  {
   "cell_type": "code",
   "execution_count": 27,
   "metadata": {},
   "outputs": [],
   "source": [
    "#Create new panda with new percntage of missing columns after drop\n",
    "\n",
    "new_missing_by_column =(azdias_copy.isnull().sum()/len(azdias_copy))*100\n",
    "new_sorted_blank_values =  new_missing_by_column.sort_values(ascending=False)"
   ]
  },
  {
   "cell_type": "code",
   "execution_count": 28,
   "metadata": {},
   "outputs": [
    {
     "name": "stdout",
     "output_type": "stream",
     "text": [
      "Column names in ascending order:\n",
      "AGER_TYP\n",
      "ALTERSKATEGORIE_GROB\n",
      "ALTER_HH\n",
      "ANREDE_KZ\n",
      "ANZ_HAUSHALTE_AKTIV\n",
      "ANZ_HH_TITEL\n",
      "ANZ_PERSONEN\n",
      "ANZ_TITEL\n",
      "ARBEIT\n",
      "BALLRAUM\n",
      "CAMEO_DEUG_2015\n",
      "CAMEO_DEU_2015\n",
      "CAMEO_INTL_2015\n",
      "CJT_GESAMTTYP\n",
      "EWDICHTE\n",
      "FINANZTYP\n",
      "FINANZ_ANLEGER\n",
      "FINANZ_HAUSBAUER\n",
      "FINANZ_MINIMALIST\n",
      "FINANZ_SPARER\n",
      "FINANZ_UNAUFFAELLIGER\n",
      "FINANZ_VORSORGER\n",
      "GEBAEUDETYP\n",
      "GEBAEUDETYP_RASTER\n",
      "GEBURTSJAHR\n",
      "GFK_URLAUBERTYP\n",
      "GREEN_AVANTGARDE\n",
      "HEALTH_TYP\n",
      "HH_EINKOMMEN_SCORE\n",
      "INNENSTADT\n",
      "KBA05_BAUMAX\n",
      "KBA13_ANZAHL_PKW\n",
      "KONSUMNAEHE\n",
      "LP_FAMILIE_FEIN\n",
      "LP_FAMILIE_GROB\n",
      "LP_LEBENSPHASE_FEIN\n",
      "LP_LEBENSPHASE_GROB\n",
      "LP_STATUS_FEIN\n",
      "LP_STATUS_GROB\n",
      "MIN_GEBAEUDEJAHR\n",
      "NATIONALITAET_KZ\n",
      "ONLINE_AFFINITAET\n",
      "ORTSGR_KLS9\n",
      "OST_WEST_KZ\n",
      "PLZ8_BAUMAX\n",
      "PRAEGENDE_JUGENDJAHRE\n",
      "RELAT_AB\n",
      "RETOURTYP_BK_S\n",
      "SEMIO_DOM\n",
      "SEMIO_ERL\n",
      "SEMIO_FAM\n",
      "SEMIO_KAEM\n",
      "SEMIO_KRIT\n",
      "SEMIO_KULT\n",
      "SEMIO_LUST\n",
      "SEMIO_MAT\n",
      "SEMIO_PFLICHT\n",
      "SEMIO_RAT\n",
      "SEMIO_REL\n",
      "SEMIO_SOZ\n",
      "SEMIO_TRADV\n",
      "SEMIO_VERT\n",
      "SHOPPER_TYP\n",
      "SOHO_KZ\n",
      "TITEL_KZ\n",
      "VERS_TYP\n",
      "WOHNDAUER_2008\n",
      "WOHNLAGE\n",
      "ZABEOTYP\n"
     ]
    }
   ],
   "source": [
    "old_column_names = sorted(azdias_copy.columns)\n",
    "\n",
    "print(\"Column names in ascending order:\")\n",
    "for column in old_column_names:\n",
    "    print(column)"
   ]
  },
  {
   "cell_type": "markdown",
   "metadata": {},
   "source": [
    "#### Discussion 1.1.2: Assess Missing Data in Each Column\n",
    "\n",
    "There was an obvious outlier in the column KK_KUNDENTYP, which had 584,612 missing values. This count significantly differed from the majority of other data points, prompting the decision to remove this column. I calculated the amount of missing values and filtered the data to include only columns with a relatively low percentage of missing values. Initially, I set the threshold at 15%, but this did not exclude any additional columns. Therefore, I decreased the threshold to 12%. This adjustment allowed me to analyze 18 more columns and compare the missing values and descriptions from the data dictionary. Based on my findings, I felt comfortable removing those additional columns."
   ]
  },
  {
   "cell_type": "markdown",
   "metadata": {},
   "source": [
    "#### Step 1.1.3: Assess Missing Data in Each Row\n",
    "\n",
    "Now, you'll perform a similar assessment for the rows of the dataset. How much data is missing in each row? As with the columns, you should see some groups of points that have a very different numbers of missing values. Divide the data into two subsets: one for data points that are above some threshold for missing values, and a second subset for points below that threshold.\n",
    "\n",
    "In order to know what to do with the outlier rows, we should see if the distribution of data values on columns that are not missing data (or are missing very little data) are similar or different between the two groups. Select at least five of these columns and compare the distribution of values.\n",
    "- You can use seaborn's [`countplot()`](https://seaborn.pydata.org/generated/seaborn.countplot.html) function to create a bar chart of code frequencies and matplotlib's [`subplot()`](https://matplotlib.org/api/_as_gen/matplotlib.pyplot.subplot.html) function to put bar charts for the two subplots side by side.\n",
    "- To reduce repeated code, you might want to write a function that can perform this comparison, taking as one of its arguments a column to be compared.\n",
    "\n",
    "Depending on what you observe in your comparison, this will have implications on how you approach your conclusions later in the analysis. If the distributions of non-missing features look similar between the data with many missing values and the data with few or no missing values, then we could argue that simply dropping those points from the analysis won't present a major issue. On the other hand, if the data with many missing values looks very different from the data with few or no missing values, then we should make a note on those data as special. We'll revisit these data later on. **Either way, you should continue your analysis for now using just the subset of the data with few or no missing values.**"
   ]
  },
  {
   "cell_type": "code",
   "execution_count": 29,
   "metadata": {},
   "outputs": [],
   "source": [
    "missing_by_rows = azdias_copy.isnull()"
   ]
  },
  {
   "cell_type": "code",
   "execution_count": 30,
   "metadata": {
    "scrolled": false
   },
   "outputs": [
    {
     "data": {
      "image/png": "[encoded data removed]",
      "text/plain": [
       "<matplotlib.figure.Figure at 0x7f9018121898>"
      ]
     },
     "metadata": {
      "needs_background": "light"
     },
     "output_type": "display_data"
    }
   ],
   "source": [
    "# Find how much data is missing in each row of the dataset?\n",
    "# Plot bar graph\n",
    "\n",
    "missing_by_rows =azdias_copy.isnull().sum(axis=1).sort_values(ascending=False)\n",
    "plt.hist(missing_by_rows, bins=100)\n",
    "plt.ylabel('Number of Rows')\n",
    "plt.xlabel('Number of Missing Values')\n",
    "plt.show()"
   ]
  },
  {
   "cell_type": "code",
   "execution_count": 31,
   "metadata": {},
   "outputs": [
    {
     "data": {
      "image/png": "[encoded data removed]",
      "text/plain": [
       "<matplotlib.figure.Figure at 0x7f9044751b38>"
      ]
     },
     "metadata": {
      "needs_background": "light"
     },
     "output_type": "display_data"
    }
   ],
   "source": [
    "#Take a close look\n",
    "missing_by_rows.plot(kind='hist', bins=range(0, 25))\n",
    "plt.xlabel('Number of Missing Values')\n",
    "plt.ylabel('Frequency')\n",
    "plt.title('Missing Values using 0-25 Thresholds')\n",
    "plt.show()"
   ]
  },
  {
   "cell_type": "code",
   "execution_count": 32,
   "metadata": {},
   "outputs": [
    {
     "name": "stdout",
     "output_type": "stream",
     "text": [
      "(790291, 69)\n",
      "(112639, 69)\n"
     ]
    }
   ],
   "source": [
    "# Write code to divide data into two subsets based on the number of missing\n",
    "# values in each row.\n",
    "\n",
    "group_1 = azdias_copy[azdias_copy.isnull().sum(axis=1) <= 3]\n",
    "group_2 = azdias_copy[azdias_copy.isnull().sum(axis=1) >= 3]\n",
    "print(group_1.shape)\n",
    "print(group_2.shape)"
   ]
  },
  {
   "cell_type": "code",
   "execution_count": 33,
   "metadata": {},
   "outputs": [
    {
     "data": {
      "text/plain": [
       "AGER_TYP                 0\n",
       "ALTERSKATEGORIE_GROB     0\n",
       "ANREDE_KZ                0\n",
       "CJT_GESAMTTYP            0\n",
       "FINANZ_MINIMALIST        0\n",
       "FINANZ_SPARER            0\n",
       "FINANZ_VORSORGER         0\n",
       "FINANZ_ANLEGER           0\n",
       "FINANZ_UNAUFFAELLIGER    0\n",
       "FINANZ_HAUSBAUER         0\n",
       "FINANZTYP                0\n",
       "GEBURTSJAHR              0\n",
       "GFK_URLAUBERTYP          0\n",
       "GREEN_AVANTGARDE         0\n",
       "HEALTH_TYP               0\n",
       "LP_LEBENSPHASE_FEIN      0\n",
       "LP_LEBENSPHASE_GROB      0\n",
       "LP_FAMILIE_FEIN          0\n",
       "LP_FAMILIE_GROB          0\n",
       "LP_STATUS_FEIN           0\n",
       "LP_STATUS_GROB           0\n",
       "NATIONALITAET_KZ         0\n",
       "PRAEGENDE_JUGENDJAHRE    0\n",
       "RETOURTYP_BK_S           0\n",
       "SEMIO_SOZ                0\n",
       "SEMIO_FAM                0\n",
       "SEMIO_REL                0\n",
       "SEMIO_MAT                0\n",
       "SEMIO_VERT               0\n",
       "SEMIO_LUST               0\n",
       "SEMIO_ERL                0\n",
       "SEMIO_KULT               0\n",
       "SEMIO_RAT                0\n",
       "SEMIO_KRIT               0\n",
       "SEMIO_DOM                0\n",
       "SEMIO_KAEM               0\n",
       "SEMIO_PFLICHT            0\n",
       "SEMIO_TRADV              0\n",
       "SHOPPER_TYP              0\n",
       "SOHO_KZ                  0\n",
       "TITEL_KZ                 0\n",
       "VERS_TYP                 0\n",
       "ZABEOTYP                 0\n",
       "ALTER_HH                 0\n",
       "ANZ_PERSONEN             0\n",
       "ANZ_TITEL                0\n",
       "HH_EINKOMMEN_SCORE       0\n",
       "WOHNDAUER_2008           0\n",
       "ANZ_HAUSHALTE_AKTIV      0\n",
       "GEBAEUDETYP              0\n",
       "MIN_GEBAEUDEJAHR         0\n",
       "OST_WEST_KZ              0\n",
       "WOHNLAGE                 0\n",
       "ONLINE_AFFINITAET        0\n",
       "dtype: int64"
      ]
     },
     "execution_count": 33,
     "metadata": {},
     "output_type": "execute_result"
    }
   ],
   "source": [
    "group_1.isnull().sum()[group_1.isnull().sum()==0]"
   ]
  },
  {
   "cell_type": "code",
   "execution_count": 34,
   "metadata": {},
   "outputs": [
    {
     "data": {
      "text/plain": [
       "AGER_TYP                 0\n",
       "ALTERSKATEGORIE_GROB     0\n",
       "ANREDE_KZ                0\n",
       "FINANZ_MINIMALIST        0\n",
       "FINANZ_SPARER            0\n",
       "FINANZ_VORSORGER         0\n",
       "FINANZ_ANLEGER           0\n",
       "FINANZ_UNAUFFAELLIGER    0\n",
       "FINANZ_HAUSBAUER         0\n",
       "FINANZTYP                0\n",
       "GEBURTSJAHR              0\n",
       "GREEN_AVANTGARDE         0\n",
       "HEALTH_TYP               0\n",
       "NATIONALITAET_KZ         0\n",
       "PRAEGENDE_JUGENDJAHRE    0\n",
       "SEMIO_SOZ                0\n",
       "SEMIO_FAM                0\n",
       "SEMIO_REL                0\n",
       "SEMIO_MAT                0\n",
       "SEMIO_VERT               0\n",
       "SEMIO_LUST               0\n",
       "SEMIO_ERL                0\n",
       "SEMIO_KULT               0\n",
       "SEMIO_RAT                0\n",
       "SEMIO_KRIT               0\n",
       "SEMIO_DOM                0\n",
       "SEMIO_KAEM               0\n",
       "SEMIO_PFLICHT            0\n",
       "SEMIO_TRADV              0\n",
       "SHOPPER_TYP              0\n",
       "VERS_TYP                 0\n",
       "ZABEOTYP                 0\n",
       "dtype: int64"
      ]
     },
     "execution_count": 34,
     "metadata": {},
     "output_type": "execute_result"
    }
   ],
   "source": [
    "group_2.isnull().sum()[group_2.isnull().sum()==0]"
   ]
  },
  {
   "cell_type": "code",
   "execution_count": 35,
   "metadata": {
    "scrolled": true
   },
   "outputs": [
    {
     "data": {
      "image/png": "[encoded data removed]",
      "text/plain": [
       "<matplotlib.figure.Figure at 0x7f904517f438>"
      ]
     },
     "metadata": {
      "needs_background": "light"
     },
     "output_type": "display_data"
    }
   ],
   "source": [
    "# Compare the distribution of values for at least five columns where there are\n",
    "# no or few missing values, between the two subsets.\n",
    "#print graphs to see comparison\n",
    "\n",
    "no_missing_columns = missing_by_column[missing_by_column==0].index.tolist()\n",
    "compare_col = no_missing_columns[:6]\n",
    "\n",
    "figure, axs = plt.subplots(nrows=len(compare_col), ncols=2, figsize = (15,15))\n",
    "figure.subplots_adjust(hspace = .5, wspace=.5)\n",
    "for i in range(len(compare_col)):\n",
    "    sns.countplot(group_1[compare_col[i]], ax=axs[i][0])\n",
    "    axs[i][0].set_title('Group 1')\n",
    "    sns.countplot(group_2[compare_col[i]], ax=axs[i][1])\n",
    "    axs[i][1].set_title('Group 2')"
   ]
  },
  {
   "cell_type": "code",
   "execution_count": 36,
   "metadata": {},
   "outputs": [
    {
     "name": "stdout",
     "output_type": "stream",
     "text": [
      "88.68\n"
     ]
    }
   ],
   "source": [
    "#round up percentage for group_1 to nearest tenths place\n",
    "\n",
    "pct_pct_group_1 = group_1.shape[0] / azdias_copy.shape[0] * 100\n",
    "rounded_pct_pct_group_1 = round(pct_pct_group_1, 2)\n",
    "print(rounded_pct_pct_group_1)"
   ]
  },
  {
   "cell_type": "code",
   "execution_count": 37,
   "metadata": {},
   "outputs": [
    {
     "name": "stdout",
     "output_type": "stream",
     "text": [
      "12.64\n"
     ]
    }
   ],
   "source": [
    "#round up percentage for group_2 to nearest tenths place\n",
    "\n",
    "pct_pct_group_2 = group_2.shape[0] / azdias_copy.shape[0] * 100\n",
    "rounded_pct_pct_group_2 = round(pct_pct_group_2, 2)\n",
    "print(rounded_pct_pct_group_2)"
   ]
  },
  {
   "cell_type": "markdown",
   "metadata": {},
   "source": [
    "#### Discussion 1.1.3: Assess Missing Data in Each Row\n",
    "\n",
    "The first histogram shows there are ~680,000 rows of missing values. I took a deeper dive into the threshhold ranges from 9-33 in the second historgram and found the group with the most missing columns is 33% threshold. Further analysis required dividing the dataset into two groups(1 and 2). Group 1 contained 76.87% of data while group 2 contained 23.9%. Group 1 is substantially better than group 2 and holds 52.97% more data. The subsequent 6 histograms also support my observation that group 1 is the better set to use."
   ]
  },
  {
   "cell_type": "markdown",
   "metadata": {},
   "source": [
    "\n",
    "\n",
    "### Step 1.2: Select and Re-Encode Features\n",
    "\n",
    "Checking for missing data isn't the only way in which you can prepare a dataset for analysis. Since the unsupervised learning techniques to be used will only work on data that is encoded numerically, you need to make a few encoding changes or additional assumptions to be able to make progress. In addition, while almost all of the values in the dataset are encoded using numbers, not all of them represent numeric values. Check the third column of the feature summary (`feat_info`) for a summary of types of measurement.\n",
    "- For numeric and interval data, these features can be kept without changes.\n",
    "- Most of the variables in the dataset are ordinal in nature. While ordinal values may technically be non-linear in spacing, make the simplifying assumption that the ordinal variables can be treated as being interval in nature (that is, kept without any changes).\n",
    "- Special handling may be necessary for the remaining two variable types: categorical, and 'mixed'.\n",
    "\n",
    "In the first two parts of this sub-step, you will perform an investigation of the categorical and mixed-type features and make a decision on each of them, whether you will keep, drop, or re-encode each. Then, in the last part, you will create a new data frame with only the selected and engineered columns.\n",
    "\n",
    "Data wrangling is often the trickiest part of the data analysis process, and there's a lot of it to be done here. But stick with it: once you're done with this step, you'll be ready to get to the machine learning parts of the project!"
   ]
  },
  {
   "cell_type": "code",
   "execution_count": 38,
   "metadata": {},
   "outputs": [
    {
     "data": {
      "text/plain": [
       "ordinal        49\n",
       "categorical    21\n",
       "numeric         7\n",
       "mixed           7\n",
       "interval        1\n",
       "Name: type, dtype: int64"
      ]
     },
     "execution_count": 38,
     "metadata": {},
     "output_type": "execute_result"
    }
   ],
   "source": [
    "# Identify count of features for data types with loop and print results\n",
    "\n",
    "feat_info_copy = feat_info\n",
    "feat_info_copy.type.value_counts()"
   ]
  },
  {
   "cell_type": "code",
   "execution_count": 39,
   "metadata": {},
   "outputs": [
    {
     "data": {
      "text/plain": [
       "(85, 4)"
      ]
     },
     "execution_count": 39,
     "metadata": {},
     "output_type": "execute_result"
    }
   ],
   "source": [
    "feat_info_copy.shape"
   ]
  },
  {
   "cell_type": "code",
   "execution_count": 40,
   "metadata": {},
   "outputs": [
    {
     "data": {
      "text/html": [
       "<div>\n",
       "<style scoped>\n",
       "    .dataframe tbody tr th:only-of-type {\n",
       "        vertical-align: middle;\n",
       "    }\n",
       "\n",
       "    .dataframe tbody tr th {\n",
       "        vertical-align: top;\n",
       "    }\n",
       "\n",
       "    .dataframe thead th {\n",
       "        text-align: right;\n",
       "    }\n",
       "</style>\n",
       "<table border=\"1\" class=\"dataframe\">\n",
       "  <thead>\n",
       "    <tr style=\"text-align: right;\">\n",
       "      <th></th>\n",
       "      <th>attribute</th>\n",
       "      <th>information_level</th>\n",
       "      <th>type</th>\n",
       "      <th>missing_or_unknown</th>\n",
       "    </tr>\n",
       "  </thead>\n",
       "  <tbody>\n",
       "    <tr>\n",
       "      <th>0</th>\n",
       "      <td>AGER_TYP</td>\n",
       "      <td>person</td>\n",
       "      <td>categorical</td>\n",
       "      <td>[-1,0]</td>\n",
       "    </tr>\n",
       "    <tr>\n",
       "      <th>1</th>\n",
       "      <td>ALTERSKATEGORIE_GROB</td>\n",
       "      <td>person</td>\n",
       "      <td>ordinal</td>\n",
       "      <td>[-1,0,9]</td>\n",
       "    </tr>\n",
       "    <tr>\n",
       "      <th>2</th>\n",
       "      <td>ANREDE_KZ</td>\n",
       "      <td>person</td>\n",
       "      <td>categorical</td>\n",
       "      <td>[-1,0]</td>\n",
       "    </tr>\n",
       "    <tr>\n",
       "      <th>3</th>\n",
       "      <td>CJT_GESAMTTYP</td>\n",
       "      <td>person</td>\n",
       "      <td>categorical</td>\n",
       "      <td>[0]</td>\n",
       "    </tr>\n",
       "    <tr>\n",
       "      <th>4</th>\n",
       "      <td>FINANZ_MINIMALIST</td>\n",
       "      <td>person</td>\n",
       "      <td>ordinal</td>\n",
       "      <td>[-1]</td>\n",
       "    </tr>\n",
       "  </tbody>\n",
       "</table>\n",
       "</div>"
      ],
      "text/plain": [
       "              attribute information_level         type missing_or_unknown\n",
       "0              AGER_TYP            person  categorical             [-1,0]\n",
       "1  ALTERSKATEGORIE_GROB            person      ordinal           [-1,0,9]\n",
       "2             ANREDE_KZ            person  categorical             [-1,0]\n",
       "3         CJT_GESAMTTYP            person  categorical                [0]\n",
       "4     FINANZ_MINIMALIST            person      ordinal               [-1]"
      ]
     },
     "execution_count": 40,
     "metadata": {},
     "output_type": "execute_result"
    }
   ],
   "source": [
    "feat_info_copy.head()"
   ]
  },
  {
   "cell_type": "markdown",
   "metadata": {},
   "source": [
    "#### Step 1.2.1: Re-Encode Categorical Features\n",
    "\n",
    "For categorical data, you would ordinarily need to encode the levels as dummy variables. Depending on the number of categories, perform one of the following:\n",
    "- For binary (two-level) categoricals that take numeric values, you can keep them without needing to do anything.\n",
    "- There is one binary variable that takes on non-numeric values. For this one, you need to re-encode the values as numbers or create a dummy variable.\n",
    "- For multi-level categoricals (three or more values), you can choose to encode the values using multiple dummy variables (e.g. via [OneHotEncoder](http://scikit-learn.org/stable/modules/generated/sklearn.preprocessing.OneHotEncoder.html)), or (to keep things straightforward) just drop them from the analysis. As always, document your choices in the Discussion section."
   ]
  },
  {
   "cell_type": "code",
   "execution_count": 41,
   "metadata": {},
   "outputs": [
    {
     "data": {
      "text/html": [
       "<div>\n",
       "<style scoped>\n",
       "    .dataframe tbody tr th:only-of-type {\n",
       "        vertical-align: middle;\n",
       "    }\n",
       "\n",
       "    .dataframe tbody tr th {\n",
       "        vertical-align: top;\n",
       "    }\n",
       "\n",
       "    .dataframe thead th {\n",
       "        text-align: right;\n",
       "    }\n",
       "</style>\n",
       "<table border=\"1\" class=\"dataframe\">\n",
       "  <thead>\n",
       "    <tr style=\"text-align: right;\">\n",
       "      <th></th>\n",
       "      <th>attribute</th>\n",
       "      <th>information_level</th>\n",
       "      <th>type</th>\n",
       "      <th>missing_or_unknown</th>\n",
       "    </tr>\n",
       "  </thead>\n",
       "  <tbody>\n",
       "    <tr>\n",
       "      <th>0</th>\n",
       "      <td>AGER_TYP</td>\n",
       "      <td>person</td>\n",
       "      <td>categorical</td>\n",
       "      <td>[-1,0]</td>\n",
       "    </tr>\n",
       "    <tr>\n",
       "      <th>2</th>\n",
       "      <td>ANREDE_KZ</td>\n",
       "      <td>person</td>\n",
       "      <td>categorical</td>\n",
       "      <td>[-1,0]</td>\n",
       "    </tr>\n",
       "    <tr>\n",
       "      <th>3</th>\n",
       "      <td>CJT_GESAMTTYP</td>\n",
       "      <td>person</td>\n",
       "      <td>categorical</td>\n",
       "      <td>[0]</td>\n",
       "    </tr>\n",
       "    <tr>\n",
       "      <th>10</th>\n",
       "      <td>FINANZTYP</td>\n",
       "      <td>person</td>\n",
       "      <td>categorical</td>\n",
       "      <td>[-1]</td>\n",
       "    </tr>\n",
       "    <tr>\n",
       "      <th>12</th>\n",
       "      <td>GFK_URLAUBERTYP</td>\n",
       "      <td>person</td>\n",
       "      <td>categorical</td>\n",
       "      <td>[]</td>\n",
       "    </tr>\n",
       "    <tr>\n",
       "      <th>13</th>\n",
       "      <td>GREEN_AVANTGARDE</td>\n",
       "      <td>person</td>\n",
       "      <td>categorical</td>\n",
       "      <td>[]</td>\n",
       "    </tr>\n",
       "    <tr>\n",
       "      <th>17</th>\n",
       "      <td>LP_FAMILIE_FEIN</td>\n",
       "      <td>person</td>\n",
       "      <td>categorical</td>\n",
       "      <td>[0]</td>\n",
       "    </tr>\n",
       "    <tr>\n",
       "      <th>18</th>\n",
       "      <td>LP_FAMILIE_GROB</td>\n",
       "      <td>person</td>\n",
       "      <td>categorical</td>\n",
       "      <td>[0]</td>\n",
       "    </tr>\n",
       "    <tr>\n",
       "      <th>19</th>\n",
       "      <td>LP_STATUS_FEIN</td>\n",
       "      <td>person</td>\n",
       "      <td>categorical</td>\n",
       "      <td>[0]</td>\n",
       "    </tr>\n",
       "    <tr>\n",
       "      <th>20</th>\n",
       "      <td>LP_STATUS_GROB</td>\n",
       "      <td>person</td>\n",
       "      <td>categorical</td>\n",
       "      <td>[0]</td>\n",
       "    </tr>\n",
       "    <tr>\n",
       "      <th>21</th>\n",
       "      <td>NATIONALITAET_KZ</td>\n",
       "      <td>person</td>\n",
       "      <td>categorical</td>\n",
       "      <td>[-1,0]</td>\n",
       "    </tr>\n",
       "    <tr>\n",
       "      <th>38</th>\n",
       "      <td>SHOPPER_TYP</td>\n",
       "      <td>person</td>\n",
       "      <td>categorical</td>\n",
       "      <td>[-1]</td>\n",
       "    </tr>\n",
       "    <tr>\n",
       "      <th>39</th>\n",
       "      <td>SOHO_KZ</td>\n",
       "      <td>person</td>\n",
       "      <td>categorical</td>\n",
       "      <td>[-1]</td>\n",
       "    </tr>\n",
       "    <tr>\n",
       "      <th>40</th>\n",
       "      <td>TITEL_KZ</td>\n",
       "      <td>person</td>\n",
       "      <td>categorical</td>\n",
       "      <td>[-1,0]</td>\n",
       "    </tr>\n",
       "    <tr>\n",
       "      <th>41</th>\n",
       "      <td>VERS_TYP</td>\n",
       "      <td>person</td>\n",
       "      <td>categorical</td>\n",
       "      <td>[-1]</td>\n",
       "    </tr>\n",
       "    <tr>\n",
       "      <th>42</th>\n",
       "      <td>ZABEOTYP</td>\n",
       "      <td>person</td>\n",
       "      <td>categorical</td>\n",
       "      <td>[-1,9]</td>\n",
       "    </tr>\n",
       "    <tr>\n",
       "      <th>47</th>\n",
       "      <td>KK_KUNDENTYP</td>\n",
       "      <td>household</td>\n",
       "      <td>categorical</td>\n",
       "      <td>[-1]</td>\n",
       "    </tr>\n",
       "    <tr>\n",
       "      <th>52</th>\n",
       "      <td>GEBAEUDETYP</td>\n",
       "      <td>building</td>\n",
       "      <td>categorical</td>\n",
       "      <td>[-1,0]</td>\n",
       "    </tr>\n",
       "    <tr>\n",
       "      <th>55</th>\n",
       "      <td>OST_WEST_KZ</td>\n",
       "      <td>building</td>\n",
       "      <td>categorical</td>\n",
       "      <td>[-1]</td>\n",
       "    </tr>\n",
       "    <tr>\n",
       "      <th>57</th>\n",
       "      <td>CAMEO_DEUG_2015</td>\n",
       "      <td>microcell_rr4</td>\n",
       "      <td>categorical</td>\n",
       "      <td>[-1,X]</td>\n",
       "    </tr>\n",
       "    <tr>\n",
       "      <th>58</th>\n",
       "      <td>CAMEO_DEU_2015</td>\n",
       "      <td>microcell_rr4</td>\n",
       "      <td>categorical</td>\n",
       "      <td>[XX]</td>\n",
       "    </tr>\n",
       "  </tbody>\n",
       "</table>\n",
       "</div>"
      ],
      "text/plain": [
       "           attribute information_level         type missing_or_unknown\n",
       "0           AGER_TYP            person  categorical             [-1,0]\n",
       "2          ANREDE_KZ            person  categorical             [-1,0]\n",
       "3      CJT_GESAMTTYP            person  categorical                [0]\n",
       "10         FINANZTYP            person  categorical               [-1]\n",
       "12   GFK_URLAUBERTYP            person  categorical                 []\n",
       "13  GREEN_AVANTGARDE            person  categorical                 []\n",
       "17   LP_FAMILIE_FEIN            person  categorical                [0]\n",
       "18   LP_FAMILIE_GROB            person  categorical                [0]\n",
       "19    LP_STATUS_FEIN            person  categorical                [0]\n",
       "20    LP_STATUS_GROB            person  categorical                [0]\n",
       "21  NATIONALITAET_KZ            person  categorical             [-1,0]\n",
       "38       SHOPPER_TYP            person  categorical               [-1]\n",
       "39           SOHO_KZ            person  categorical               [-1]\n",
       "40          TITEL_KZ            person  categorical             [-1,0]\n",
       "41          VERS_TYP            person  categorical               [-1]\n",
       "42          ZABEOTYP            person  categorical             [-1,9]\n",
       "47      KK_KUNDENTYP         household  categorical               [-1]\n",
       "52       GEBAEUDETYP          building  categorical             [-1,0]\n",
       "55       OST_WEST_KZ          building  categorical               [-1]\n",
       "57   CAMEO_DEUG_2015     microcell_rr4  categorical             [-1,X]\n",
       "58    CAMEO_DEU_2015     microcell_rr4  categorical               [XX]"
      ]
     },
     "execution_count": 41,
     "metadata": {},
     "output_type": "execute_result"
    }
   ],
   "source": [
    "# Assess categorical variables: which are binary, which are multi-level, and\n",
    "# which one needs to be re-encoded?\n",
    "\n",
    "feat_cat = feat_info_copy.query('type ==\"categorical\"')\n",
    "feat_cat"
   ]
  },
  {
   "cell_type": "code",
   "execution_count": 42,
   "metadata": {},
   "outputs": [
    {
     "data": {
      "text/plain": [
       "W    629528\n",
       "O    168545\n",
       "Name: OST_WEST_KZ, dtype: int64"
      ]
     },
     "execution_count": 42,
     "metadata": {},
     "output_type": "execute_result"
    }
   ],
   "source": [
    "azdias_copy.OST_WEST_KZ.value_counts()"
   ]
  },
  {
   "cell_type": "code",
   "execution_count": 43,
   "metadata": {},
   "outputs": [],
   "source": [
    "# Recode categorical features and create a new clean file \n",
    "# using data set that has more data  (azdias_copy from group_1 data set)\n",
    "\n",
    "replacements = {'W': 0, 'O': 1}\n",
    "azdias_copy = azdias_copy.replace({'OST_WEST_KZ':replacements})"
   ]
  },
  {
   "cell_type": "code",
   "execution_count": 44,
   "metadata": {},
   "outputs": [
    {
     "data": {
      "text/plain": [
       "0.0    629528\n",
       "1.0    168545\n",
       "Name: OST_WEST_KZ, dtype: int64"
      ]
     },
     "execution_count": 44,
     "metadata": {},
     "output_type": "execute_result"
    }
   ],
   "source": [
    "azdias_copy.OST_WEST_KZ.value_counts()"
   ]
  },
  {
   "cell_type": "markdown",
   "metadata": {},
   "source": [
    "#### Discussion 1.2.1: Re-Encode Categorical Features\n",
    "\n",
    "I first identified categorical types then removed mixed variable. The I organized the data by using the get_dummies feature on OST_WEST_KZ column since it was binary and non-numeric.\n"
   ]
  },
  {
   "cell_type": "markdown",
   "metadata": {},
   "source": [
    "#### Step 1.2.2: Engineer Mixed-Type Features\n",
    "\n",
    "There are a handful of features that are marked as \"mixed\" in the feature summary that require special treatment in order to be included in the analysis. There are two in particular that deserve attention; the handling of the rest are up to your own choices:\n",
    "- \"PRAEGENDE_JUGENDJAHRE\" combines information on three dimensions: generation by decade, movement (mainstream vs. avantgarde), and nation (east vs. west). While there aren't enough levels to disentangle east from west, you should create two new variables to capture the other two dimensions: an interval-type variable for decade, and a binary variable for movement.\n",
    "- \"CAMEO_INTL_2015\" combines information on two axes: wealth and life stage. Break up the two-digit codes by their 'tens'-place and 'ones'-place digits into two new ordinal variables (which, for the purposes of this project, is equivalent to just treating them as their raw numeric values).\n",
    "- If you decide to keep or engineer new features around the other mixed-type features, make sure you note your steps in the Discussion section.\n",
    "\n",
    "Be sure to check `Data_Dictionary.md` for the details needed to finish these tasks."
   ]
  },
  {
   "cell_type": "markdown",
   "metadata": {},
   "source": [
    "CAMEO: Wealth and Life stages with international cod\n",
    "    11: Wealthy Households - Pre-Family Couples & Singles\n",
    "    12: Wealthy Households - Young Couples With Children\n",
    "    13: Wealthy Households - Families With School Age Children\n",
    "    14: Wealthy Households - Older Families & Mature Couples\n",
    "    15: Wealthy Households - Elders In Retirement\n",
    "    21: Prosperous Households - Pre-Family Couples & Singles\n",
    "    22: Prosperous Households - Young Couples With Children\n",
    "    23: Prosperous Households - Families With School Age Children\n",
    "    24: Prosperous Households - Older Families & Mature Couples\n",
    "    25: Prosperous Households - Elders In Retirement\n",
    "    31: Comfortable Households - Pre-Family Couples & Singles\n",
    "    32: Comfortable Households - Young Couples With Children\n",
    "    33: Comfortable Households - Families With School Age Children\n",
    "    34: Comfortable Households - Older Families & Mature Couples\n",
    "    35: Comfortable Households - Elders In Retirement\n",
    "    41: Less Affluent Households - Pre-Family Couples & Singles\n",
    "    42: Less Affluent Households - Young Couples With Children\n",
    "    43: Less Affluent Households - Families With School Age Children\n",
    "    44: Less Affluent Households - Older Families & Mature Couples\n",
    "    45: Less Affluent Households - Elders In Retirement\n",
    "    51: Poorer Households - Pre-Family Couples & Singles\n",
    "    52: Poorer Households - Young Couples With Children\n",
    "    53: Poorer Households - Families With School Age Children\n",
    "    54: Poorer Households - Older Families & Mature Couples\n",
    "    55: Poorer Households - Elders In Retirement"
   ]
  },
  {
   "cell_type": "code",
   "execution_count": 45,
   "metadata": {},
   "outputs": [],
   "source": [
    "# Investigate \"PRAEGENDE_JUGENDJAHRE\" & create new variables\n",
    "\n",
    "azdias_copy['DECADE'] = azdias_copy['PRAEGENDE_JUGENDJAHRE']\n",
    "azdias_copy['MOVEMENT'] = azdias_copy['PRAEGENDE_JUGENDJAHRE']"
   ]
  },
  {
   "cell_type": "code",
   "execution_count": 46,
   "metadata": {},
   "outputs": [],
   "source": [
    "# Create 2 new dictionaries\n",
    "\n",
    "decade_dictionary = {1:1, 2:1, 3:2, 4:2, 5:3, 6:3, 7:3, 8:4, 9:4, 10:5, 11:5, 12:5, 13:5, 14:6, 15:6}\n",
    "movement_dictionary = {1:1, 2:0, 3:1, 4:0, 5:1, 6:0, 7:0, 8:1, 9:0, 10:1, 11:0, 12:1, 13:0, 14:1, 15:0}"
   ]
  },
  {
   "cell_type": "code",
   "execution_count": 47,
   "metadata": {},
   "outputs": [],
   "source": [
    "# Replace values in new dictionaries\n",
    "\n",
    "azdias_copy['DECADE'].replace(decade_dictionary, inplace=True)\n",
    "azdias_copy['MOVEMENT'].replace(movement_dictionary, inplace=True)"
   ]
  },
  {
   "cell_type": "code",
   "execution_count": 48,
   "metadata": {},
   "outputs": [],
   "source": [
    "# Investigate column CAMEOINTL2015 then create 2 new\n",
    "\n",
    "azdias_copy['WEALTH'] = azdias_copy['CAMEO_INTL_2015']\n",
    "azdias_copy['LIFE_STAGE'] = azdias_copy['CAMEO_INTL_2015']"
   ]
  },
  {
   "cell_type": "code",
   "execution_count": 49,
   "metadata": {},
   "outputs": [],
   "source": [
    "# Seperate 2 digits then place in new var\n",
    "\n",
    "wealth_dictionary = {'11':1, '12':1, '13':1, '14':1, '15':1, '21':2, '22':2, '23':2, '24':2, '25':2,\n",
    "               '31':3, '32':3, '33':3, '34':3, '35':3, '41':4, '42':4, '43':4, '44':4, '45':4,\n",
    "               '51':5, '52':5, '53':5, '54':5, '55':5}\n",
    "\n",
    "stages_dictionary = {'11':1, '12':2, '13':3, '14':4, '15':5, '21':1, '22':2, '23':3, '24':4, '25':5,\n",
    "                   '31':1, '32':2, '33':3, '34':4, '35':5, '41':1, '42':2, '43':3, '44':4, '45':5,\n",
    "                   '51':1, '52':2, '53':3, '54':4, '55':5}\n",
    "\n",
    "\n",
    "azdias_copy['WEALTH'].replace(wealth_dictionary, inplace=True)\n",
    "azdias_copy['LIFE_STAGE'].replace(stages_dictionary, inplace=True)\n"
   ]
  },
  {
   "cell_type": "code",
   "execution_count": 50,
   "metadata": {},
   "outputs": [
    {
     "data": {
      "text/plain": [
       "(891221, 73)"
      ]
     },
     "execution_count": 50,
     "metadata": {},
     "output_type": "execute_result"
    }
   ],
   "source": [
    "azdias_copy.shape"
   ]
  },
  {
   "cell_type": "code",
   "execution_count": 51,
   "metadata": {},
   "outputs": [
    {
     "data": {
      "text/html": [
       "<div>\n",
       "<style scoped>\n",
       "    .dataframe tbody tr th:only-of-type {\n",
       "        vertical-align: middle;\n",
       "    }\n",
       "\n",
       "    .dataframe tbody tr th {\n",
       "        vertical-align: top;\n",
       "    }\n",
       "\n",
       "    .dataframe thead th {\n",
       "        text-align: right;\n",
       "    }\n",
       "</style>\n",
       "<table border=\"1\" class=\"dataframe\">\n",
       "  <thead>\n",
       "    <tr style=\"text-align: right;\">\n",
       "      <th></th>\n",
       "      <th>AGER_TYP</th>\n",
       "      <th>ALTERSKATEGORIE_GROB</th>\n",
       "      <th>ANREDE_KZ</th>\n",
       "      <th>CJT_GESAMTTYP</th>\n",
       "      <th>FINANZ_MINIMALIST</th>\n",
       "      <th>FINANZ_SPARER</th>\n",
       "      <th>FINANZ_VORSORGER</th>\n",
       "      <th>FINANZ_ANLEGER</th>\n",
       "      <th>FINANZ_UNAUFFAELLIGER</th>\n",
       "      <th>FINANZ_HAUSBAUER</th>\n",
       "      <th>...</th>\n",
       "      <th>ONLINE_AFFINITAET</th>\n",
       "      <th>KBA13_ANZAHL_PKW</th>\n",
       "      <th>PLZ8_BAUMAX</th>\n",
       "      <th>ARBEIT</th>\n",
       "      <th>ORTSGR_KLS9</th>\n",
       "      <th>RELAT_AB</th>\n",
       "      <th>DECADE</th>\n",
       "      <th>MOVEMENT</th>\n",
       "      <th>WEALTH</th>\n",
       "      <th>LIFE_STAGE</th>\n",
       "    </tr>\n",
       "  </thead>\n",
       "  <tbody>\n",
       "    <tr>\n",
       "      <th>0</th>\n",
       "      <td>-1</td>\n",
       "      <td>2</td>\n",
       "      <td>1</td>\n",
       "      <td>2.0</td>\n",
       "      <td>3</td>\n",
       "      <td>4</td>\n",
       "      <td>3</td>\n",
       "      <td>5</td>\n",
       "      <td>5</td>\n",
       "      <td>3</td>\n",
       "      <td>...</td>\n",
       "      <td>1.0</td>\n",
       "      <td>NaN</td>\n",
       "      <td>NaN</td>\n",
       "      <td>NaN</td>\n",
       "      <td>NaN</td>\n",
       "      <td>NaN</td>\n",
       "      <td>0</td>\n",
       "      <td>0</td>\n",
       "      <td>NaN</td>\n",
       "      <td>NaN</td>\n",
       "    </tr>\n",
       "    <tr>\n",
       "      <th>1</th>\n",
       "      <td>-1</td>\n",
       "      <td>1</td>\n",
       "      <td>2</td>\n",
       "      <td>5.0</td>\n",
       "      <td>1</td>\n",
       "      <td>5</td>\n",
       "      <td>2</td>\n",
       "      <td>5</td>\n",
       "      <td>4</td>\n",
       "      <td>5</td>\n",
       "      <td>...</td>\n",
       "      <td>3.0</td>\n",
       "      <td>963.0</td>\n",
       "      <td>1.0</td>\n",
       "      <td>3.0</td>\n",
       "      <td>5.0</td>\n",
       "      <td>4.0</td>\n",
       "      <td>6</td>\n",
       "      <td>1</td>\n",
       "      <td>5</td>\n",
       "      <td>1</td>\n",
       "    </tr>\n",
       "    <tr>\n",
       "      <th>2</th>\n",
       "      <td>-1</td>\n",
       "      <td>3</td>\n",
       "      <td>2</td>\n",
       "      <td>3.0</td>\n",
       "      <td>1</td>\n",
       "      <td>4</td>\n",
       "      <td>1</td>\n",
       "      <td>2</td>\n",
       "      <td>3</td>\n",
       "      <td>5</td>\n",
       "      <td>...</td>\n",
       "      <td>2.0</td>\n",
       "      <td>712.0</td>\n",
       "      <td>1.0</td>\n",
       "      <td>3.0</td>\n",
       "      <td>5.0</td>\n",
       "      <td>2.0</td>\n",
       "      <td>6</td>\n",
       "      <td>0</td>\n",
       "      <td>2</td>\n",
       "      <td>4</td>\n",
       "    </tr>\n",
       "    <tr>\n",
       "      <th>3</th>\n",
       "      <td>2</td>\n",
       "      <td>4</td>\n",
       "      <td>2</td>\n",
       "      <td>2.0</td>\n",
       "      <td>4</td>\n",
       "      <td>2</td>\n",
       "      <td>5</td>\n",
       "      <td>2</td>\n",
       "      <td>1</td>\n",
       "      <td>2</td>\n",
       "      <td>...</td>\n",
       "      <td>1.0</td>\n",
       "      <td>596.0</td>\n",
       "      <td>1.0</td>\n",
       "      <td>2.0</td>\n",
       "      <td>3.0</td>\n",
       "      <td>3.0</td>\n",
       "      <td>4</td>\n",
       "      <td>1</td>\n",
       "      <td>1</td>\n",
       "      <td>2</td>\n",
       "    </tr>\n",
       "    <tr>\n",
       "      <th>4</th>\n",
       "      <td>-1</td>\n",
       "      <td>3</td>\n",
       "      <td>1</td>\n",
       "      <td>5.0</td>\n",
       "      <td>4</td>\n",
       "      <td>3</td>\n",
       "      <td>4</td>\n",
       "      <td>1</td>\n",
       "      <td>3</td>\n",
       "      <td>2</td>\n",
       "      <td>...</td>\n",
       "      <td>5.0</td>\n",
       "      <td>435.0</td>\n",
       "      <td>2.0</td>\n",
       "      <td>4.0</td>\n",
       "      <td>6.0</td>\n",
       "      <td>5.0</td>\n",
       "      <td>4</td>\n",
       "      <td>1</td>\n",
       "      <td>4</td>\n",
       "      <td>3</td>\n",
       "    </tr>\n",
       "  </tbody>\n",
       "</table>\n",
       "<p>5 rows × 73 columns</p>\n",
       "</div>"
      ],
      "text/plain": [
       "   AGER_TYP  ALTERSKATEGORIE_GROB  ANREDE_KZ  CJT_GESAMTTYP  \\\n",
       "0        -1                     2          1            2.0   \n",
       "1        -1                     1          2            5.0   \n",
       "2        -1                     3          2            3.0   \n",
       "3         2                     4          2            2.0   \n",
       "4        -1                     3          1            5.0   \n",
       "\n",
       "   FINANZ_MINIMALIST  FINANZ_SPARER  FINANZ_VORSORGER  FINANZ_ANLEGER  \\\n",
       "0                  3              4                 3               5   \n",
       "1                  1              5                 2               5   \n",
       "2                  1              4                 1               2   \n",
       "3                  4              2                 5               2   \n",
       "4                  4              3                 4               1   \n",
       "\n",
       "   FINANZ_UNAUFFAELLIGER  FINANZ_HAUSBAUER     ...      ONLINE_AFFINITAET  \\\n",
       "0                      5                 3     ...                    1.0   \n",
       "1                      4                 5     ...                    3.0   \n",
       "2                      3                 5     ...                    2.0   \n",
       "3                      1                 2     ...                    1.0   \n",
       "4                      3                 2     ...                    5.0   \n",
       "\n",
       "   KBA13_ANZAHL_PKW  PLZ8_BAUMAX  ARBEIT  ORTSGR_KLS9  RELAT_AB  DECADE  \\\n",
       "0               NaN          NaN     NaN          NaN       NaN       0   \n",
       "1             963.0          1.0     3.0          5.0       4.0       6   \n",
       "2             712.0          1.0     3.0          5.0       2.0       6   \n",
       "3             596.0          1.0     2.0          3.0       3.0       4   \n",
       "4             435.0          2.0     4.0          6.0       5.0       4   \n",
       "\n",
       "   MOVEMENT  WEALTH  LIFE_STAGE  \n",
       "0         0     NaN         NaN  \n",
       "1         1       5           1  \n",
       "2         0       2           4  \n",
       "3         1       1           2  \n",
       "4         1       4           3  \n",
       "\n",
       "[5 rows x 73 columns]"
      ]
     },
     "execution_count": 51,
     "metadata": {},
     "output_type": "execute_result"
    }
   ],
   "source": [
    "azdias_copy.head()"
   ]
  },
  {
   "cell_type": "code",
   "execution_count": 52,
   "metadata": {},
   "outputs": [
    {
     "name": "stdout",
     "output_type": "stream",
     "text": [
      "Column names in ascending order:\n",
      "AGER_TYP\n",
      "ALTERSKATEGORIE_GROB\n",
      "ALTER_HH\n",
      "ANREDE_KZ\n",
      "ANZ_HAUSHALTE_AKTIV\n",
      "ANZ_HH_TITEL\n",
      "ANZ_PERSONEN\n",
      "ANZ_TITEL\n",
      "ARBEIT\n",
      "BALLRAUM\n",
      "CAMEO_DEUG_2015\n",
      "CAMEO_DEU_2015\n",
      "CAMEO_INTL_2015\n",
      "CJT_GESAMTTYP\n",
      "DECADE\n",
      "EWDICHTE\n",
      "FINANZTYP\n",
      "FINANZ_ANLEGER\n",
      "FINANZ_HAUSBAUER\n",
      "FINANZ_MINIMALIST\n",
      "FINANZ_SPARER\n",
      "FINANZ_UNAUFFAELLIGER\n",
      "FINANZ_VORSORGER\n",
      "GEBAEUDETYP\n",
      "GEBAEUDETYP_RASTER\n",
      "GEBURTSJAHR\n",
      "GFK_URLAUBERTYP\n",
      "GREEN_AVANTGARDE\n",
      "HEALTH_TYP\n",
      "HH_EINKOMMEN_SCORE\n",
      "INNENSTADT\n",
      "KBA05_BAUMAX\n",
      "KBA13_ANZAHL_PKW\n",
      "KONSUMNAEHE\n",
      "LIFE_STAGE\n",
      "LP_FAMILIE_FEIN\n",
      "LP_FAMILIE_GROB\n",
      "LP_LEBENSPHASE_FEIN\n",
      "LP_LEBENSPHASE_GROB\n",
      "LP_STATUS_FEIN\n",
      "LP_STATUS_GROB\n",
      "MIN_GEBAEUDEJAHR\n",
      "MOVEMENT\n",
      "NATIONALITAET_KZ\n",
      "ONLINE_AFFINITAET\n",
      "ORTSGR_KLS9\n",
      "OST_WEST_KZ\n",
      "PLZ8_BAUMAX\n",
      "PRAEGENDE_JUGENDJAHRE\n",
      "RELAT_AB\n",
      "RETOURTYP_BK_S\n",
      "SEMIO_DOM\n",
      "SEMIO_ERL\n",
      "SEMIO_FAM\n",
      "SEMIO_KAEM\n",
      "SEMIO_KRIT\n",
      "SEMIO_KULT\n",
      "SEMIO_LUST\n",
      "SEMIO_MAT\n",
      "SEMIO_PFLICHT\n",
      "SEMIO_RAT\n",
      "SEMIO_REL\n",
      "SEMIO_SOZ\n",
      "SEMIO_TRADV\n",
      "SEMIO_VERT\n",
      "SHOPPER_TYP\n",
      "SOHO_KZ\n",
      "TITEL_KZ\n",
      "VERS_TYP\n",
      "WEALTH\n",
      "WOHNDAUER_2008\n",
      "WOHNLAGE\n",
      "ZABEOTYP\n"
     ]
    }
   ],
   "source": [
    "column_names = sorted(azdias_copy.columns)\n",
    "\n",
    "print(\"Column names in ascending order:\")\n",
    "for column in column_names:\n",
    "    print(column)"
   ]
  },
  {
   "cell_type": "markdown",
   "metadata": {},
   "source": [
    "#### Discussion 1.2.2: Engineer Mixed-Type Features\n",
    "\n",
    "\n",
    "There are many features that are mixed variables and require investigation prior to being included in the analysis. Two that I focused on were \"PRAEGENDE_JUGENDJAHRE\" and  \"CAMEO_INTL_2015\".\n",
    "\n",
    "\"PRAEGENDE_JUGENDJAHRE\" combines information on three dimensions: generation by decade, movement (mainstream vs. avantgarde), and nation (east vs. west). While there aren't enough levels to disentangle east from west, you should create two new variables to capture the other two dimensions: an interval-type variable for decade, and a binary variable for movement.\n",
    "\n",
    "\"CAMEO_INTL_2015\" combines information on two axes: wealth and life stage. Break up the two-digit codes by their 'tens'-place and 'ones'-place digits into two new ordinal variables (which, for the purposes of this project, is equivalent to just treating them as their raw numeric values).\n"
   ]
  },
  {
   "cell_type": "markdown",
   "metadata": {},
   "source": [
    "#### Step 1.2.3: Complete Feature Selection\n",
    "\n",
    "In order to finish this step up, you need to make sure that your data frame now only has the columns that you want to keep. To summarize, the dataframe should consist of the following:\n",
    "- All numeric, interval, and ordinal type columns from the original dataset.\n",
    "- Binary categorical features (all numerically-encoded).\n",
    "- Engineered features from other multi-level categorical features and mixed features.\n",
    "\n",
    "Make sure that for any new columns that you have engineered, that you've excluded the original columns from the final dataset. Otherwise, their values will interfere with the analysis later on the project. For example, you should not keep \"PRAEGENDE_JUGENDJAHRE\", since its values won't be useful for the algorithm: only the values derived from it in the engineered features you created should be retained. As a reminder, your data should only be from **the subset with few or no missing values**."
   ]
  },
  {
   "cell_type": "code",
   "execution_count": 53,
   "metadata": {},
   "outputs": [],
   "source": [
    "# If there are other re-engineering tasks you need to perform, make sure you\n",
    "# take care of them here. (Dealing with missing data will come in step 2.1.)\n"
   ]
  },
  {
   "cell_type": "code",
   "execution_count": 54,
   "metadata": {
    "scrolled": true
   },
   "outputs": [
    {
     "data": {
      "text/html": [
       "<div>\n",
       "<style scoped>\n",
       "    .dataframe tbody tr th:only-of-type {\n",
       "        vertical-align: middle;\n",
       "    }\n",
       "\n",
       "    .dataframe tbody tr th {\n",
       "        vertical-align: top;\n",
       "    }\n",
       "\n",
       "    .dataframe thead th {\n",
       "        text-align: right;\n",
       "    }\n",
       "</style>\n",
       "<table border=\"1\" class=\"dataframe\">\n",
       "  <thead>\n",
       "    <tr style=\"text-align: right;\">\n",
       "      <th></th>\n",
       "      <th>attribute</th>\n",
       "      <th>information_level</th>\n",
       "      <th>type</th>\n",
       "      <th>missing_or_unknown</th>\n",
       "    </tr>\n",
       "  </thead>\n",
       "  <tbody>\n",
       "    <tr>\n",
       "      <th>15</th>\n",
       "      <td>LP_LEBENSPHASE_FEIN</td>\n",
       "      <td>person</td>\n",
       "      <td>mixed</td>\n",
       "      <td>[0]</td>\n",
       "    </tr>\n",
       "    <tr>\n",
       "      <th>16</th>\n",
       "      <td>LP_LEBENSPHASE_GROB</td>\n",
       "      <td>person</td>\n",
       "      <td>mixed</td>\n",
       "      <td>[0]</td>\n",
       "    </tr>\n",
       "    <tr>\n",
       "      <th>22</th>\n",
       "      <td>PRAEGENDE_JUGENDJAHRE</td>\n",
       "      <td>person</td>\n",
       "      <td>mixed</td>\n",
       "      <td>[-1,0]</td>\n",
       "    </tr>\n",
       "    <tr>\n",
       "      <th>56</th>\n",
       "      <td>WOHNLAGE</td>\n",
       "      <td>building</td>\n",
       "      <td>mixed</td>\n",
       "      <td>[-1]</td>\n",
       "    </tr>\n",
       "    <tr>\n",
       "      <th>59</th>\n",
       "      <td>CAMEO_INTL_2015</td>\n",
       "      <td>microcell_rr4</td>\n",
       "      <td>mixed</td>\n",
       "      <td>[-1,XX]</td>\n",
       "    </tr>\n",
       "    <tr>\n",
       "      <th>64</th>\n",
       "      <td>KBA05_BAUMAX</td>\n",
       "      <td>microcell_rr3</td>\n",
       "      <td>mixed</td>\n",
       "      <td>[-1,0]</td>\n",
       "    </tr>\n",
       "    <tr>\n",
       "      <th>79</th>\n",
       "      <td>PLZ8_BAUMAX</td>\n",
       "      <td>macrocell_plz8</td>\n",
       "      <td>mixed</td>\n",
       "      <td>[-1,0]</td>\n",
       "    </tr>\n",
       "  </tbody>\n",
       "</table>\n",
       "</div>"
      ],
      "text/plain": [
       "                attribute information_level   type missing_or_unknown\n",
       "15    LP_LEBENSPHASE_FEIN            person  mixed                [0]\n",
       "16    LP_LEBENSPHASE_GROB            person  mixed                [0]\n",
       "22  PRAEGENDE_JUGENDJAHRE            person  mixed             [-1,0]\n",
       "56               WOHNLAGE          building  mixed               [-1]\n",
       "59        CAMEO_INTL_2015     microcell_rr4  mixed            [-1,XX]\n",
       "64           KBA05_BAUMAX     microcell_rr3  mixed             [-1,0]\n",
       "79            PLZ8_BAUMAX    macrocell_plz8  mixed             [-1,0]"
      ]
     },
     "execution_count": 54,
     "metadata": {},
     "output_type": "execute_result"
    }
   ],
   "source": [
    "# Do whatever you need to in order to ensure that the dataframe only contains\n",
    "# the columns that should be passed to the algorithm functions.\n",
    "# Adress multiple features\n",
    "\n",
    "feat_mixed = feat_info_copy.query('type ==\"mixed\"')\n",
    "feat_mixed"
   ]
  },
  {
   "cell_type": "code",
   "execution_count": 55,
   "metadata": {},
   "outputs": [],
   "source": [
    "feat_mixed_drop =['LP_LEBENSPHASE_FEIN','LP_LEBENSPHASE_GROB','PRAEGENDE_JUGENDJAHRE','WOHNLAGE','CAMEO_INTL_2015','KBA05_BAUMAX','PLZ8_BAUMAX']"
   ]
  },
  {
   "cell_type": "code",
   "execution_count": 56,
   "metadata": {
    "scrolled": true
   },
   "outputs": [],
   "source": [
    "# Drop mixed features\n",
    "\n",
    "azdias_copy = azdias_copy.drop(feat_mixed_drop , axis=1)"
   ]
  },
  {
   "cell_type": "code",
   "execution_count": 57,
   "metadata": {},
   "outputs": [
    {
     "data": {
      "text/plain": [
       "ordinal        49\n",
       "categorical    21\n",
       "numeric         7\n",
       "mixed           7\n",
       "interval        1\n",
       "Name: type, dtype: int64"
      ]
     },
     "execution_count": 57,
     "metadata": {},
     "output_type": "execute_result"
    }
   ],
   "source": [
    "new_feat_info_copy = feat_info_copy\n",
    "new_feat_info_copy.type.value_counts()"
   ]
  },
  {
   "cell_type": "code",
   "execution_count": 58,
   "metadata": {},
   "outputs": [
    {
     "data": {
      "text/plain": [
       "(85, 4)"
      ]
     },
     "execution_count": 58,
     "metadata": {},
     "output_type": "execute_result"
    }
   ],
   "source": [
    "new_feat_info_copy.shape"
   ]
  },
  {
   "cell_type": "code",
   "execution_count": 59,
   "metadata": {},
   "outputs": [
    {
     "name": "stdout",
     "output_type": "stream",
     "text": [
      "<class 'pandas.core.frame.DataFrame'>\n",
      "RangeIndex: 891221 entries, 0 to 891220\n",
      "Data columns (total 66 columns):\n",
      "AGER_TYP                 891221 non-null int64\n",
      "ALTERSKATEGORIE_GROB     891221 non-null int64\n",
      "ANREDE_KZ                891221 non-null int64\n",
      "CJT_GESAMTTYP            886367 non-null float64\n",
      "FINANZ_MINIMALIST        891221 non-null int64\n",
      "FINANZ_SPARER            891221 non-null int64\n",
      "FINANZ_VORSORGER         891221 non-null int64\n",
      "FINANZ_ANLEGER           891221 non-null int64\n",
      "FINANZ_UNAUFFAELLIGER    891221 non-null int64\n",
      "FINANZ_HAUSBAUER         891221 non-null int64\n",
      "FINANZTYP                891221 non-null int64\n",
      "GEBURTSJAHR              891221 non-null int64\n",
      "GFK_URLAUBERTYP          886367 non-null float64\n",
      "GREEN_AVANTGARDE         891221 non-null int64\n",
      "HEALTH_TYP               891221 non-null int64\n",
      "LP_FAMILIE_FEIN          886367 non-null float64\n",
      "LP_FAMILIE_GROB          886367 non-null float64\n",
      "LP_STATUS_FEIN           886367 non-null float64\n",
      "LP_STATUS_GROB           886367 non-null float64\n",
      "NATIONALITAET_KZ         891221 non-null int64\n",
      "RETOURTYP_BK_S           886367 non-null float64\n",
      "SEMIO_SOZ                891221 non-null int64\n",
      "SEMIO_FAM                891221 non-null int64\n",
      "SEMIO_REL                891221 non-null int64\n",
      "SEMIO_MAT                891221 non-null int64\n",
      "SEMIO_VERT               891221 non-null int64\n",
      "SEMIO_LUST               891221 non-null int64\n",
      "SEMIO_ERL                891221 non-null int64\n",
      "SEMIO_KULT               891221 non-null int64\n",
      "SEMIO_RAT                891221 non-null int64\n",
      "SEMIO_KRIT               891221 non-null int64\n",
      "SEMIO_DOM                891221 non-null int64\n",
      "SEMIO_KAEM               891221 non-null int64\n",
      "SEMIO_PFLICHT            891221 non-null int64\n",
      "SEMIO_TRADV              891221 non-null int64\n",
      "SHOPPER_TYP              891221 non-null int64\n",
      "SOHO_KZ                  817722 non-null float64\n",
      "TITEL_KZ                 817722 non-null float64\n",
      "VERS_TYP                 891221 non-null int64\n",
      "ZABEOTYP                 891221 non-null int64\n",
      "ALTER_HH                 817722 non-null float64\n",
      "ANZ_PERSONEN             817722 non-null float64\n",
      "ANZ_TITEL                817722 non-null float64\n",
      "HH_EINKOMMEN_SCORE       872873 non-null float64\n",
      "WOHNDAUER_2008           817722 non-null float64\n",
      "ANZ_HAUSHALTE_AKTIV      798073 non-null float64\n",
      "ANZ_HH_TITEL             794213 non-null float64\n",
      "GEBAEUDETYP              798073 non-null float64\n",
      "KONSUMNAEHE              817252 non-null float64\n",
      "MIN_GEBAEUDEJAHR         798073 non-null float64\n",
      "OST_WEST_KZ              798073 non-null float64\n",
      "CAMEO_DEUG_2015          792242 non-null object\n",
      "CAMEO_DEU_2015           792242 non-null object\n",
      "BALLRAUM                 797481 non-null float64\n",
      "EWDICHTE                 797481 non-null float64\n",
      "INNENSTADT               797481 non-null float64\n",
      "GEBAEUDETYP_RASTER       798066 non-null float64\n",
      "ONLINE_AFFINITAET        886367 non-null float64\n",
      "KBA13_ANZAHL_PKW         785421 non-null float64\n",
      "ARBEIT                   794005 non-null float64\n",
      "ORTSGR_KLS9              794005 non-null float64\n",
      "RELAT_AB                 794005 non-null float64\n",
      "DECADE                   891221 non-null int64\n",
      "MOVEMENT                 891221 non-null int64\n",
      "WEALTH                   792242 non-null object\n",
      "LIFE_STAGE               792242 non-null object\n",
      "dtypes: float64(29), int64(33), object(4)\n",
      "memory usage: 448.8+ MB\n"
     ]
    }
   ],
   "source": [
    "azdias_copy.info()"
   ]
  },
  {
   "cell_type": "code",
   "execution_count": 60,
   "metadata": {},
   "outputs": [
    {
     "data": {
      "text/plain": [
       "(891221, 66)"
      ]
     },
     "execution_count": 60,
     "metadata": {},
     "output_type": "execute_result"
    }
   ],
   "source": [
    "azdias_copy.shape"
   ]
  },
  {
   "cell_type": "markdown",
   "metadata": {},
   "source": [
    "### Step 1.3: Create a Cleaning Function\n",
    "\n",
    "Even though you've finished cleaning up the general population demographics data, it's important to look ahead to the future and realize that you'll need to perform the same cleaning steps on the customer demographics data. In this substep, complete the function below to execute the main feature selection, encoding, and re-engineering steps you performed above. Then, when it comes to looking at the customer data in Step 3, you can just run this function on that DataFrame to get the trimmed dataset in a single step."
   ]
  },
  {
   "cell_type": "code",
   "execution_count": 61,
   "metadata": {},
   "outputs": [],
   "source": [
    "def clean_data(df):\n",
    "    \"\"\"\n",
    "    Perform feature trimming, re-encoding, and engineering for demographics\n",
    "    data\n",
    "    \n",
    "    INPUT: Demographics DataFrame\n",
    "    OUTPUT: Trimmed and cleaned demographics DataFrame\n",
    "    \"\"\"\n",
    "    # Main cleaning steps:\n",
    "    # Convert blank value codes into NaNs\n",
    "    \n",
    "    for indx in range(len(feat_info)):\n",
    "        missing_or_unknown = features_info_clean.iloc[indx]['missing_or_unknown']\n",
    "        missing_or_unknown = missing_or_unknown.strip('[')\n",
    "        missing_or_unknown = missing_or_unknown.strip(']')\n",
    "        missing_or_unknown = missing_or_unknown.split(sep=',')\n",
    "        missing_or_unknown = [int(value) if (value!='X' and value!='XX' and value!='') else value for value in missing_or_unknown]\n",
    "        if missing_or_unknown != ['']:\n",
    "            df_clean = df.replace({feat_info.iloc[indx]['attribute']: missing_or_unknown}, np.nan)\n",
    "    \n",
    "    for col in df.columns:\n",
    "        df_clean = df_clean.replace({col: ['XX', 'X']}, np.nan)\n",
    "  \n",
    "    # Drop rows with 12%+ missing data\n",
    "    \n",
    "    columns_drop_12plus = ['KK_KUNDENTYP','W_KEIT_KIND_HH','KBA05_ANTG1','KBA05_ANTG2','KBA05_ANTG3','KBA05_ANTG4','KBA05_GBZ','KKK','MOBI_REGIO','REGIOTYP','PLZ8_ANTG1','PLZ8_ANTG2','PLZ8_ANTG3','PLZ8_ANTG4','PLZ8_HHZ','PLZ8_GBZ',]\n",
    "    df_clean = df_clean.drop(columns_drop_12plus, axis = 1)\n",
    "   \n",
    "    # Convert letter to num\n",
    "    \n",
    "    replacements = {'W': 0, 'O': 1}\n",
    "    df_clean = df_clean.replace({'OST_WEST_KZ': replacements})\n",
    "    \n",
    "    # Drop multiple level \n",
    "    \n",
    "    #hard_code_multi = ['AGER_TYP', 'CJT_GESAMTTYP', 'FINANZTYP', 'GFK_URLAUBERTYP', 'LP_FAMILIE_FEIN', 'LP_FAMILIE_GROB', 'LP_STATUS_FEIN', 'LP_STATUS_GROB', 'NATIONALITAET_KZ', 'SHOPPER_TYP', 'TITEL_KZ', 'VERS_TYP', 'ZABEOTYP', 'GEBAEUDETYP', 'CAMEO_DEUG_2015', 'CAMEO_DEU_2015']\n",
    "    #dataframe_clean_copy = dataframe_clean_copy.drop(hard_code_multi, axis=1)\n",
    "    \n",
    "    # Format mixed\n",
    "    \n",
    "    df_clean['DECADE'] = df_clean['PRAEGENDE_JUGENDJAHRE']\n",
    "    df_clean['MOVEMENT'] = df_clean['PRAEGENDE_JUGENDJAHRE']\n",
    "    \n",
    "    decade_dictionary = {1: 1, 2: 1, 3: 2, 4: 2, 5: 3, 6: 3, 7: 3, 8: 4, 9: 4, 10: 5, 11: 5, 12: 5, 13: 5, 14: 6, 15: 6}\n",
    "    movement_dictionary = {1: 1, 2: 0, 3: 1, 4: 0, 5: 1, 6: 0, 7: 0, 8: 1, 9: 0, 10: 1, 11: 0, 12: 1, 13: 0, 14: 1, 15: 0}\n",
    "    \n",
    "    df_clean['DECADE'].replace(decade_dictionary, inplace=True)\n",
    "    df_clean['MOVEMENT'].replace(movement_dictionary, inplace=True)\n",
    "    \n",
    "    df_clean['WEALTH'] = df_clean['CAMEO_INTL_2015']\n",
    "    df_clean['LIFE_STAGE'] = df_clean['CAMEO_INTL_2015']\n",
    "    \n",
    "    wealth_dictionary = {'11':1, '12':1, '13':1, '14':1, '15':1, '21':2, '22':2, '23':2, '24':2, '25':2,\n",
    "                   '31':3, '32':3, '33':3, '34':3, '35':3, '41':4, '42':4, '43':4, '44':4, '45':4,\n",
    "                   '51':5, '52':5, '53':5, '54':5, '55':5}\n",
    "    \n",
    "    stages_dictionary = {'11':1, '12':2, '13':3, '14':4, '15':5, '21':1, '22':2, '23':3, '24':4, '25':5,\n",
    "                       '31':1, '32':2, '33':3, '34':4, '35':5, '41':1, '42':2, '43':3, '44':4, '45':5,\n",
    "                       '51':1, '52':2, '53':3, '54':4, '55':5}\n",
    "    \n",
    "    df_clean['WEALTH'].replace(wealth_dictionary, inplace=True)\n",
    "    df_clean['LIFE_STAGE'].replace(stages_dictionary, inplace=True)\n",
    "    \n",
    "    #Drop mixed features\n",
    "    \n",
    "    feat_mixed_drop =['LP_LEBENSPHASE_FEIN','LP_LEBENSPHASE_GROB','PRAEGENDE_JUGENDJAHRE','WOHNLAGE','CAMEO_INTL_2015','KBA05_BAUMAX','PLZ8_BAUMAX']\n",
    "    df_clean = df_clean.drop(feat_mixed_drop , axis=1)\n",
    "    \n",
    "    # Print shape after final cleaning\n",
    "    \n",
    "    print(\"After final cleaning:\", df_clean.shape)\n",
    "    \n",
    "    # Return the clean version\n",
    "    \n",
    "    return df_clean"
   ]
  },
  {
   "cell_type": "code",
   "execution_count": 65,
   "metadata": {},
   "outputs": [
    {
     "name": "stdout",
     "output_type": "stream",
     "text": [
      "Variable 'df' either doesn't exist or is not a DataFrame.\n"
     ]
    }
   ],
   "source": [
    "# Check if df exists and is a DataFrame\n",
    "if 'df_clean' in locals() and isinstance(df_clean, pd.DataFrame):\n",
    "    print(\"Variable 'df' exists and is a DataFrame.\")\n",
    "else:\n",
    "    print(\"Variable 'df' either doesn't exist or is not a DataFrame.\")"
   ]
  },
  {
   "cell_type": "code",
   "execution_count": 68,
   "metadata": {},
   "outputs": [
    {
     "ename": "AssertionError",
     "evalue": "clean_data function is not working properly, rows mismatch",
     "output_type": "error",
     "traceback": [
      "\u001b[0;31m---------------------------------------------------------------------------\u001b[0m",
      "\u001b[0;31mAssertionError\u001b[0m                            Traceback (most recent call last)",
      "\u001b[0;32m<ipython-input-68-7c3b8fa71c50>\u001b[0m in \u001b[0;36m<module>\u001b[0;34m()\u001b[0m\n\u001b[0;32m----> 1\u001b[0;31m \u001b[0;32massert\u001b[0m \u001b[0mazdias_copy\u001b[0m\u001b[0;34m.\u001b[0m\u001b[0mshape\u001b[0m\u001b[0;34m[\u001b[0m\u001b[0;36m0\u001b[0m\u001b[0;34m]\u001b[0m \u001b[0;34m==\u001b[0m \u001b[0mfeat_info\u001b[0m\u001b[0;34m.\u001b[0m\u001b[0mshape\u001b[0m\u001b[0;34m[\u001b[0m\u001b[0;36m0\u001b[0m\u001b[0;34m]\u001b[0m\u001b[0;34m,\u001b[0m \u001b[0;34m\"clean_data function is not working properly, rows mismatch\"\u001b[0m\u001b[0;34m\u001b[0m\u001b[0m\n\u001b[0m\u001b[1;32m      2\u001b[0m \u001b[0;32massert\u001b[0m \u001b[0mazdias_copy\u001b[0m\u001b[0;34m.\u001b[0m\u001b[0mshape\u001b[0m\u001b[0;34m[\u001b[0m\u001b[0;36m1\u001b[0m\u001b[0;34m]\u001b[0m \u001b[0;34m==\u001b[0m \u001b[0mfeat_info\u001b[0m\u001b[0;34m.\u001b[0m\u001b[0mshape\u001b[0m\u001b[0;34m[\u001b[0m\u001b[0;36m1\u001b[0m\u001b[0;34m]\u001b[0m\u001b[0;34m,\u001b[0m \u001b[0;34m\"clean_data function is not working properly, columns mismatch\"\u001b[0m\u001b[0;34m\u001b[0m\u001b[0m\n\u001b[1;32m      3\u001b[0m \u001b[0mprint\u001b[0m\u001b[0;34m(\u001b[0m\u001b[0;34m\"If this is all you see, you passed the tests\"\u001b[0m\u001b[0;34m)\u001b[0m\u001b[0;34m\u001b[0m\u001b[0m\n",
      "\u001b[0;31mAssertionError\u001b[0m: clean_data function is not working properly, rows mismatch"
     ]
    }
   ],
   "source": [
    "assert azdias_copy.shape[0] == feat_info.shape[0], \"clean_data function is not working properly, rows mismatch\"\n",
    "assert azdias_copy.shape[1] == feat_info.shape[1], \"clean_data function is not working properly, columns mismatch\"\n",
    "print(\"If this is all you see, you passed the tests\")"
   ]
  },
  {
   "cell_type": "code",
   "execution_count": 69,
   "metadata": {},
   "outputs": [
    {
     "data": {
      "text/plain": [
       "(891221, 66)"
      ]
     },
     "execution_count": 69,
     "metadata": {},
     "output_type": "execute_result"
    }
   ],
   "source": [
    "azdias_copy.shape"
   ]
  },
  {
   "cell_type": "code",
   "execution_count": 70,
   "metadata": {},
   "outputs": [
    {
     "data": {
      "text/plain": [
       "(85, 4)"
      ]
     },
     "execution_count": 70,
     "metadata": {},
     "output_type": "execute_result"
    }
   ],
   "source": [
    "feat_info_copy.shape"
   ]
  },
  {
   "cell_type": "markdown",
   "metadata": {},
   "source": [
    "## Step 2: Feature Transformation\n",
    "\n",
    "### Step 2.1: Apply Feature Scaling\n",
    "\n",
    "Before we apply dimensionality reduction techniques to the data, we need to perform feature scaling so that the principal component vectors are not influenced by the natural differences in scale for features. Starting from this part of the project, you'll want to keep an eye on the [API reference page for sklearn](http://scikit-learn.org/stable/modules/classes.html) to help you navigate to all of the classes and functions that you'll need. In this substep, you'll need to check the following:\n",
    "\n",
    "- sklearn requires that data not have missing values in order for its estimators to work properly. So, before applying the scaler to your data, make sure that you've cleaned the DataFrame of the remaining missing values. This can be as simple as just removing all data points with missing data, or applying an [Imputer](https://scikit-learn.org/0.16/modules/generated/sklearn.preprocessing.Imputer.html) to replace all missing values. You might also try a more complicated procedure where you temporarily remove missing values in order to compute the scaling parameters before re-introducing those missing values and applying imputation. Think about how much missing data you have and what possible effects each approach might have on your analysis, and justify your decision in the discussion section below.\n",
    "- For the actual scaling function, a [StandardScaler](http://scikit-learn.org/stable/modules/generated/sklearn.preprocessing.StandardScaler.html) instance is suggested, scaling each feature to mean 0 and standard deviation 1.\n",
    "- For these classes, you can make use of the `.fit_transform()` method to both fit a procedure to the data as well as apply the transformation to the data at the same time. Don't forget to keep the fit sklearn objects handy, since you'll be applying them to the customer demographics data towards the end of the project."
   ]
  },
  {
   "cell_type": "code",
   "execution_count": null,
   "metadata": {},
   "outputs": [],
   "source": [
    "# If you've not yet cleaned the dataset of all NaN values, then investigate and\n",
    "# do that now.\n",
    "\n",
    "azdias_copy.isna().any().values"
   ]
  },
  {
   "cell_type": "code",
   "execution_count": null,
   "metadata": {},
   "outputs": [],
   "source": [
    "# Apply Imputer using mean strategy\n",
    "\n",
    "impute_missing = Imputer(strategy='mean')\n",
    "azdias_imputed = pd.DataFrame(impute_missing.fit_transform(azdias_copy))"
   ]
  },
  {
   "cell_type": "code",
   "execution_count": null,
   "metadata": {},
   "outputs": [],
   "source": [
    "azdias_imputed.shape"
   ]
  },
  {
   "cell_type": "code",
   "execution_count": null,
   "metadata": {},
   "outputs": [],
   "source": [
    "# Assign names to new\n",
    "\n",
    "azdias_imputed.columns = azdias_copy.columns\n",
    "azdias_imputed.index = azdias_copy.index"
   ]
  },
  {
   "cell_type": "code",
   "execution_count": null,
   "metadata": {},
   "outputs": [],
   "source": [
    "# Apply feature scaling to the general population demographics data.\n",
    "\n",
    "standard_scaler = StandardScaler() \n",
    "azdias_scaled = standard_scaler.fit_transform(azdias_imputed)"
   ]
  },
  {
   "cell_type": "code",
   "execution_count": null,
   "metadata": {},
   "outputs": [],
   "source": [
    "azdias_scaled = pd.DataFrame(azdias_scaled, columns=list(azdias_imputed))"
   ]
  },
  {
   "cell_type": "code",
   "execution_count": null,
   "metadata": {},
   "outputs": [],
   "source": [
    "azdias_imputed.shape"
   ]
  },
  {
   "cell_type": "code",
   "execution_count": null,
   "metadata": {},
   "outputs": [],
   "source": [
    "# Verify NA's are cared for\n",
    "\n",
    "azdias_scaled.isna().any().values"
   ]
  },
  {
   "cell_type": "markdown",
   "metadata": {},
   "source": [
    "All values show false now for na, blank, missing values."
   ]
  },
  {
   "cell_type": "code",
   "execution_count": null,
   "metadata": {},
   "outputs": [],
   "source": [
    "azdias_scaled.columns.tolist()"
   ]
  },
  {
   "cell_type": "code",
   "execution_count": null,
   "metadata": {},
   "outputs": [],
   "source": [
    "azdias_scaled.head()"
   ]
  },
  {
   "cell_type": "code",
   "execution_count": null,
   "metadata": {
    "scrolled": true
   },
   "outputs": [],
   "source": [
    "azdias_scaled.columns.tolist()"
   ]
  },
  {
   "cell_type": "markdown",
   "metadata": {},
   "source": [
    "### Discussion 2.1: Apply Feature Scaling\n",
    "\n",
    "For the remaining missing values in my dataset, I used the mean imputation for each column. Additionally, I applied the StandardScaler to scale my features. The StandardScaler normalizes each feature by centering it around a mean of 0 and scaling it with a standard deviation of 1."
   ]
  },
  {
   "cell_type": "markdown",
   "metadata": {},
   "source": [
    "### Step 2.2: Perform Dimensionality Reduction\n",
    "\n",
    "On your scaled data, you are now ready to apply dimensionality reduction techniques.\n",
    "\n",
    "- Use sklearn's [PCA](http://scikit-learn.org/stable/modules/generated/sklearn.decomposition.PCA.html) class to apply principal component analysis on the data, thus finding the vectors of maximal variance in the data. To start, you should not set any parameters (so all components are computed) or set a number of components that is at least half the number of features (so there's enough features to see the general trend in variability).\n",
    "- Check out the ratio of variance explained by each principal component as well as the cumulative variance explained. Try plotting the cumulative or sequential values using matplotlib's [`plot()`](https://matplotlib.org/api/_as_gen/matplotlib.pyplot.plot.html) function. Based on what you find, select a value for the number of transformed features you'll retain for the clustering part of the project.\n",
    "- Once you've made a choice for the number of components to keep, make sure you re-fit a PCA instance to perform the decided-on transformation."
   ]
  },
  {
   "cell_type": "code",
   "execution_count": null,
   "metadata": {},
   "outputs": [],
   "source": [
    "# Apply PCA to the data.\n",
    "\n",
    "pca_1 = PCA()\n",
    "#model = pca_1.fit_transform(azdias_scaled)\n",
    "pca_1.fit(azdias_scaled)"
   ]
  },
  {
   "cell_type": "code",
   "execution_count": null,
   "metadata": {},
   "outputs": [],
   "source": [
    "# scree_plot(pca_1)"
   ]
  },
  {
   "cell_type": "code",
   "execution_count": null,
   "metadata": {},
   "outputs": [],
   "source": [
    "plt.bar(range(len(pca_1.explained_variance_ratio_)), pca_1.explained_variance_ratio_)\n",
    "plt.title(\"Variance Accounted for by Component\")\n",
    "plt.xlabel(\"Principal Component\")\n",
    "plt.ylabel(\"Variance\")\n",
    "plt.show()"
   ]
  },
  {
   "cell_type": "code",
   "execution_count": null,
   "metadata": {},
   "outputs": [],
   "source": [
    "for i in np.arange(15, len(pca_1.explained_variance_ratio_), 15):\n",
    "    print('For {} components, explained variance:'.format(i), \n",
    "          pca_1.explained_variance_ratio_[:i].sum())"
   ]
  },
  {
   "cell_type": "code",
   "execution_count": null,
   "metadata": {},
   "outputs": [],
   "source": [
    "plt.plot(range(len(pca_1.explained_variance_ratio_)),np.cumsum(pca_1.explained_variance_ratio_), '-')\n",
    "plt.title(\"Cumulative Variance\")\n",
    "plt.xlabel(\"Components\")\n",
    "plt.ylabel(\"Variance Ratio\")\n",
    "plt.show()"
   ]
  },
  {
   "cell_type": "code",
   "execution_count": null,
   "metadata": {},
   "outputs": [],
   "source": [
    "# Re-apply PCA to the data while selecting for number of components to retain.\n",
    "\n",
    "pca_40 = PCA(n_components = 40)\n",
    "pca_model = pca_40.fit_transform(azdias_scaled)"
   ]
  },
  {
   "cell_type": "code",
   "execution_count": null,
   "metadata": {},
   "outputs": [],
   "source": [
    "pca_40.explained_variance_ratio_.sum()"
   ]
  },
  {
   "cell_type": "markdown",
   "metadata": {},
   "source": [
    "### Discussion 2.2: Perform Dimensionality Reduction\n",
    "\n",
    "After understanding the concept of explained variance through principal components, we observed that the first component accounts for approximately 99% of the total variability in the data. By including 40 components, we can capture as much as 95% of the overall variability. Therefore, I retained these 30 components for the next stage. While it's possible to choose more components, opting for 14 strikes a good balance as it explains a significant portion of the total variability. Even so both performed rather well, after re-applying PCA, we notice a difference in the hundred-thousandths place."
   ]
  },
  {
   "cell_type": "markdown",
   "metadata": {},
   "source": [
    "### Step 2.3: Interpret Principal Components\n",
    "\n",
    "Now that we have our transformed principal components, it's a nice idea to check out the weight of each variable on the first few components to see if they can be interpreted in some fashion.\n",
    "\n",
    "As a reminder, each principal component is a unit vector that points in the direction of highest variance (after accounting for the variance captured by earlier principal components). The further a weight is from zero, the more the principal component is in the direction of the corresponding feature. If two features have large weights of the same sign (both positive or both negative), then increases in one tend expect to be associated with increases in the other. To contrast, features with different signs can be expected to show a negative correlation: increases in one variable should result in a decrease in the other.\n",
    "\n",
    "- To investigate the features, you should map each weight to their corresponding feature name, then sort the features according to weight. The most interesting features for each principal component, then, will be those at the beginning and end of the sorted list. Use the data dictionary document to help you understand these most prominent features, their relationships, and what a positive or negative value on the principal component might indicate.\n",
    "- You should investigate and interpret feature associations from the first three principal components in this substep. To help facilitate this, you should write a function that you can call at any time to print the sorted list of feature weights, for the *i*-th principal component. This might come in handy in the next step of the project, when you interpret the tendencies of the discovered clusters."
   ]
  },
  {
   "cell_type": "code",
   "execution_count": null,
   "metadata": {},
   "outputs": [],
   "source": [
    "# Map weights for the first principal component to corresponding feature names\n",
    "# and then print the linked values, sorted by weight.\n",
    "# HINT: Try defining a function here or in a new cell that you can reuse in the\n",
    "# other cells.\n",
    "\n",
    "def pca_results(pca, i):\n",
    "    df = pd.DataFrame(pca.components_, columns=list(azdias_scaled.columns))\n",
    "    weights = df.iloc[i].sort_values(ascending=False)\n",
    "    return weights"
   ]
  },
  {
   "cell_type": "code",
   "execution_count": null,
   "metadata": {},
   "outputs": [],
   "source": [
    "# Map weights for the first principal component to corresponding feature names\n",
    "# and then print the linked values, sorted by weight.\n",
    "\n",
    "pca_results_1 = pca_results(pca_40, 0)\n",
    "print (pca_results_1)"
   ]
  },
  {
   "cell_type": "code",
   "execution_count": null,
   "metadata": {},
   "outputs": [],
   "source": [
    "# Map weights for the second principal component to corresponding feature names\n",
    "# and then print the linked values, sorted by weight.\n",
    "\n",
    "pca_results_2 = pca_results(pca_40, 1)\n",
    "print (pca_results_2)"
   ]
  },
  {
   "cell_type": "code",
   "execution_count": null,
   "metadata": {},
   "outputs": [],
   "source": [
    "# Map weights for the third principal component to corresponding feature names\n",
    "# and then print the linked values, sorted by weight.\n",
    "\n",
    "pca_results_3 = pca_results(pca_40, 2)\n",
    "print (pca_results_3)"
   ]
  },
  {
   "cell_type": "markdown",
   "metadata": {},
   "source": [
    "### Discussion 2.3: Interpret Principal Components\n",
    "\n",
    "First Principal Component\n",
    "\n",
    "Three Positives:\n",
    "PRAEGENDE_JUGENDJAHRE_MOVEMENT       0.0019\tdominant movement of the person's youth\n",
    "PRAEGENDE_JUGENDJAHRE_GENERATIONS    0.0015\tgeneration or era a person belongs to based on their dominant movement during their youth\n",
    "ANZ_HAUSHALTE_AKTIV                  0.0010\tnumber of households in the building or neighborhood where an individual resides\n",
    "\n",
    "Three Negatives:\n",
    "ALTER_HH                            -0.0043\tage of head of household\n",
    "KBA13_ANZAHL_PKW                    -0.0096\tamount of registered passanger cars (PKW) in the building or neighborhood\n",
    "GEBURTSJAHR                         -0.9999\tthe birth year\n",
    "\n",
    "There is a positive correlation between a person's movement during their youth and the number of households where a person lives.\n",
    "There is a negative correlation between the age of the head of household and amount of PKW in the neighborhood.\n",
    "\n",
    "\n",
    "\n",
    "Second Principal Component\n",
    "\n",
    "Three Positives:\n",
    "KBA13_ANZAHL_PKW       0.9999\t\t\tthe number of registered passenger cars (PKW) in a specific region or area\n",
    "LP_LEBENSPHASE_FEIN    0.0029\t\t\tthe current life stage or phase of the target population.\n",
    "KBA05_ANTG1            0.0017\t\t\tthe number of buildings with 1-2 units in the microcell where an individual resides\n",
    "\n",
    "Three Negatives:\n",
    "PLZ8_BAUMAX           -0.0035\t\t\tthe maximum number of buildings in the PLZ8 region\n",
    "ANZ_HAUSHALTE_AKTIV   -0.0038\t\t\tthe number of active households in a building or neighborhood\n",
    "GEBURTSJAHR           -0.0096\t\t\tthe birth year\n",
    "\n",
    "There is a positive correlation between registered cars, lifestage, and 1-2 unit buildings.\n",
    "There is a negative correlation between maximum amount of buildings, active households in a neighborhood, and the birth year.\n",
    "\n",
    "\n",
    "\n",
    "Third Principal Component\n",
    "\n",
    "Three Positives:\n",
    "KBA05_ANTG4            0.3325\t\t\tthe number of buildings in the microcell region with more than 10 units\n",
    "KBA05_ANTG3            0.3311\t\t\tthe number of buildings in the microcell or small cell structure within the building's surrounding area\n",
    "KBA05_ANTG2            0.3285\t\t\tthe number of 2-3 family houses in the microcell area. \n",
    "\n",
    "Three Negatives:\n",
    "HH_EINKOMMEN_SCORE    -0.0062\t\t\tthe estimated income level of households\n",
    "FINANZ_HAUSBAUER      -0.0071\t\t\tthe financial typology of individuals regarding their inclination towards home ownership\n",
    "ANZ_HAUSHALTE_AKTIV   -0.0263\t\t\tthe number of active households in a building or neighborhood\n",
    "\n",
    "There is a positive correlation between the number buildings with more than 10 units and number of 2-3 family houses in the area.\n",
    "There is a negative correlation between the estimated income, liklihood of owning property and the number of active households."
   ]
  },
  {
   "cell_type": "markdown",
   "metadata": {},
   "source": [
    "## Step 3: Clustering\n",
    "\n",
    "### Step 3.1: Apply Clustering to General Population\n",
    "\n",
    "You've assessed and cleaned the demographics data, then scaled and transformed them. Now, it's time to see how the data clusters in the principal components space. In this substep, you will apply k-means clustering to the dataset and use the average within-cluster distances from each point to their assigned cluster's centroid to decide on a number of clusters to keep.\n",
    "\n",
    "- Use sklearn's [KMeans](http://scikit-learn.org/stable/modules/generated/sklearn.cluster.KMeans.html#sklearn.cluster.KMeans) class to perform k-means clustering on the PCA-transformed data.\n",
    "- Then, compute the average difference from each point to its assigned cluster's center. **Hint**: The KMeans object's `.score()` method might be useful here, but note that in sklearn, scores tend to be defined so that larger is better. Try applying it to a small, toy dataset, or use an internet search to help your understanding.\n",
    "- Perform the above two steps for a number of different cluster counts. You can then see how the average distance decreases with an increasing number of clusters. However, each additional cluster provides a smaller net benefit. Use this fact to select a final number of clusters in which to group the data. **Warning**: because of the large size of the dataset, it can take a long time for the algorithm to resolve. The more clusters to fit, the longer the algorithm will take. You should test for cluster counts through at least 10 clusters to get the full picture, but you shouldn't need to test for a number of clusters above about 30.\n",
    "- Once you've selected a final number of clusters to use, re-fit a KMeans instance to perform the clustering operation. Make sure that you also obtain the cluster assignments for the general demographics data, since you'll be using them in the final Step 3.3."
   ]
  },
  {
   "cell_type": "code",
   "execution_count": null,
   "metadata": {},
   "outputs": [],
   "source": [
    "def score_1(data, n_cluster):\n",
    "    k_means_1 = KMeans(n_clusters = n_cluster)\n",
    "    model_1 = k_means_1.fit(data)\n",
    "    score = np.abs(model_1.score(data))\n",
    "    return score"
   ]
  },
  {
   "cell_type": "code",
   "execution_count": null,
   "metadata": {},
   "outputs": [],
   "source": [
    "# Over a number of different cluster counts...\n",
    "# run k-means clustering on the data and...\n",
    "# compute the average within-cluster distances.\n",
    "\n",
    "score_list = []\n",
    "klist = list(range(1,20,2))\n",
    "for k in klist:\n",
    "    score_list.append(score_1(pca_model,k))"
   ]
  },
  {
   "cell_type": "code",
   "execution_count": null,
   "metadata": {},
   "outputs": [],
   "source": [
    "# Investigate the change in within-cluster distance across number of clusters.\n",
    "# HINT: Use matplotlib's plot function to visualize this relationship.\n",
    "\n",
    "plt.plot(klist, score_list, '-o')\n",
    "plt.xlabel('K');\n",
    "plt.ylabel('SSE')"
   ]
  },
  {
   "cell_type": "code",
   "execution_count": null,
   "metadata": {},
   "outputs": [],
   "source": [
    "# Re-fit the k-means model with the selected number of clusters and obtain\n",
    "# cluster predictions for the general population demographics data.\n",
    "\n",
    "k_means = KMeans(n_clusters = 8)\n",
    "kmeans_model = k_means.fit(pca_model)\n",
    "cluster_predictions = kmeans_model.predict(pca_model)\n"
   ]
  },
  {
   "cell_type": "markdown",
   "metadata": {},
   "source": [
    "### Discussion 3.1: Apply Clustering to General Population"
   ]
  },
  {
   "cell_type": "markdown",
   "metadata": {},
   "source": [
    "How I proceeded with deciding the amount of clusters was by using the elbow method, which is technique used to determine the optimal number of clusters in a dataset while using algorithms like k-means. K means compares the average distance of the center of the clusters and by anylizing the graph, I was able to narrow it down to 14 clusters when it starts to plateau. I did come across some porgamming challnges as the time K means takes a large amount of time."
   ]
  },
  {
   "cell_type": "markdown",
   "metadata": {},
   "source": [
    "### Step 3.2: Apply All Steps to the Customer Data\n",
    "\n",
    "Now that you have clusters and cluster centers for the general population, it's time to see how the customer data maps on to those clusters. Take care to not confuse this for re-fitting all of the models to the customer data. Instead, you're going to use the fits from the general population to clean, transform, and cluster the customer data. In the last step of the project, you will interpret how the general population fits apply to the customer data.\n",
    "\n",
    "- Don't forget when loading in the customers data, that it is semicolon (`;`) delimited.\n",
    "- Apply the same feature wrangling, selection, and engineering steps to the customer demographics using the `clean_data()` function you created earlier. (You can assume that the customer demographics data has similar meaning behind missing data patterns as the general demographics data.)\n",
    "- Use the sklearn objects from the general demographics data, and apply their transformations to the customers data. That is, you should not be using a `.fit()` or `.fit_transform()` method to re-fit the old objects, nor should you be creating new sklearn objects! Carry the data through the feature scaling, PCA, and clustering steps, obtaining cluster assignments for all of the data in the customer demographics data."
   ]
  },
  {
   "cell_type": "code",
   "execution_count": null,
   "metadata": {},
   "outputs": [],
   "source": [
    "# Load in the customer demographics data.\n",
    "\n",
    "customers = pd.read_csv(\"Udacity_CUSTOMERS_Subset.csv\", delimiter=\";\")\n",
    "customers.shape"
   ]
  },
  {
   "cell_type": "code",
   "execution_count": null,
   "metadata": {},
   "outputs": [],
   "source": [
    "customers.isna().any().values"
   ]
  },
  {
   "cell_type": "code",
   "execution_count": null,
   "metadata": {},
   "outputs": [],
   "source": [
    "customers.shape"
   ]
  },
  {
   "cell_type": "code",
   "execution_count": null,
   "metadata": {},
   "outputs": [],
   "source": [
    "customers.head()"
   ]
  },
  {
   "cell_type": "code",
   "execution_count": null,
   "metadata": {},
   "outputs": [],
   "source": [
    "# Apply preprocessing, feature transformation, and clustering from the general\n",
    "# demographics onto the customer data, obtaining cluster predictions for the\n",
    "# customer demographics data.\n",
    "\n",
    "customers_final = clean_data(customers)"
   ]
  },
  {
   "cell_type": "code",
   "execution_count": null,
   "metadata": {},
   "outputs": [],
   "source": [
    "customers_final.head()"
   ]
  },
  {
   "cell_type": "code",
   "execution_count": null,
   "metadata": {},
   "outputs": [],
   "source": [
    "customers_final.shape"
   ]
  },
  {
   "cell_type": "code",
   "execution_count": null,
   "metadata": {},
   "outputs": [],
   "source": [
    "customers_imputed = imputer.transform(customers_final)"
   ]
  },
  {
   "cell_type": "code",
   "execution_count": null,
   "metadata": {},
   "outputs": [],
   "source": [
    "#customers_imputed.columns = customers_final.columns"
   ]
  },
  {
   "cell_type": "code",
   "execution_count": null,
   "metadata": {},
   "outputs": [],
   "source": [
    "#customers_imputed.index = customers_final.index"
   ]
  },
  {
   "cell_type": "code",
   "execution_count": null,
   "metadata": {},
   "outputs": [],
   "source": [
    "customers_imputed.isna().any().values"
   ]
  },
  {
   "cell_type": "code",
   "execution_count": null,
   "metadata": {},
   "outputs": [],
   "source": [
    "customers_imputed.shape"
   ]
  },
  {
   "cell_type": "code",
   "execution_count": null,
   "metadata": {},
   "outputs": [],
   "source": [
    "# Scale customers_imputed then store in new variable (customers_scaled)\n",
    "customers_scaled = standard_scaler.transform(customers_imputed)"
   ]
  },
  {
   "cell_type": "code",
   "execution_count": null,
   "metadata": {},
   "outputs": [],
   "source": [
    "# Create df (customers_scaled) from customers_scaled & assign column names from customers_imputed\n",
    "customers_scaled = pd.DataFrame(customers_scaled, columns=list(customers_imputed))"
   ]
  },
  {
   "cell_type": "code",
   "execution_count": null,
   "metadata": {},
   "outputs": [],
   "source": [
    "customers_scaled.shape"
   ]
  },
  {
   "cell_type": "code",
   "execution_count": null,
   "metadata": {},
   "outputs": [],
   "source": [
    "# Implement PCA\n",
    "\n",
    "customers_pca = pca_40.transform(customers_scaled)"
   ]
  },
  {
   "cell_type": "code",
   "execution_count": null,
   "metadata": {},
   "outputs": [],
   "source": [
    "#Predict using general model Kmeans\n",
    "\n",
    "customers_prediction = kmeans_model.predict(customers_pca)"
   ]
  },
  {
   "cell_type": "code",
   "execution_count": null,
   "metadata": {},
   "outputs": [],
   "source": [
    "print(\"Length of customers.index:\", len(customers_final.index))\n",
    "print(\"Length of customers_prediction:\", len(customers_prediction))"
   ]
  },
  {
   "cell_type": "markdown",
   "metadata": {},
   "source": [
    "\n",
    "\n",
    "\n",
    "### Step 3.3: Compare Customer Data to Demographics Data\n",
    "\n",
    "At this point, you have clustered data based on demographics of the general population of Germany, and seen how the customer data for a mail-order sales company maps onto those demographic clusters. In this final substep, you will compare the two cluster distributions to see where the strongest customer base for the company is.\n",
    "\n",
    "Consider the proportion of persons in each cluster for the general population, and the proportions for the customers. If we think the company's customer base to be universal, then the cluster assignment proportions should be fairly similar between the two. If there are only particular segments of the population that are interested in the company's products, then we should see a mismatch from one to the other. If there is a higher proportion of persons in a cluster for the customer data compared to the general population (e.g. 5% of persons are assigned to a cluster for the general population, but 15% of the customer data is closest to that cluster's centroid) then that suggests the people in that cluster to be a target audience for the company. On the other hand, the proportion of the data in a cluster being larger in the general population than the customer data (e.g. only 2% of customers closest to a population centroid that captures 6% of the data) suggests that group of persons to be outside of the target demographics.\n",
    "\n",
    "Take a look at the following points in this step:\n",
    "\n",
    "- Compute the proportion of data points in each cluster for the general population and the customer data. Visualizations will be useful here: both for the individual dataset proportions, but also to visualize the ratios in cluster representation between groups. Seaborn's [`countplot()`](https://seaborn.pydata.org/generated/seaborn.countplot.html) or [`barplot()`](https://seaborn.pydata.org/generated/seaborn.barplot.html) function could be handy.\n",
    "  - Recall the analysis you performed in step 1.1.3 of the project, where you separated out certain data points from the dataset if they had more than a specified threshold of missing values. If you found that this group was qualitatively different from the main bulk of the data, you should treat this as an additional data cluster in this analysis. Make sure that you account for the number of data points in this subset, for both the general population and customer datasets, when making your computations!\n",
    "- Which cluster or clusters are overrepresented in the customer dataset compared to the general population? Select at least one such cluster and infer what kind of people might be represented by that cluster. Use the principal component interpretations from step 2.3 or look at additional components to help you make this inference. Alternatively, you can use the `.inverse_transform()` method of the PCA and StandardScaler objects to transform centroids back to the original data space and interpret the retrieved values directly.\n",
    "- Perform a similar investigation for the underrepresented clusters. Which cluster or clusters are underrepresented in the customer dataset compared to the general population, and what kinds of people are typified by these clusters?"
   ]
  },
  {
   "cell_type": "code",
   "execution_count": null,
   "metadata": {},
   "outputs": [],
   "source": [
    "# Compare the proportion of data in each cluster for the customer data to the\n",
    "# proportion of data in each cluster for the general population.\n",
    "\n",
    "figure, axs = plt.subplots(nrows=1, ncols=2, figsize = (15,7))\n",
    "sns.countplot(customers_prediction, ax=axs[0]) \n",
    "axs[0].set_title('Customer Predictions')\n",
    "sns.countplot(cluster_predictions, ax=axs[1])\n",
    "axs[1].set_title('General Predictions')"
   ]
  },
  {
   "cell_type": "code",
   "execution_count": null,
   "metadata": {},
   "outputs": [],
   "source": [
    "center_2 = standard_scaler.inverse_transform(pca_40.inverse_transform(kmeans_model.cluster_centers_[2]))"
   ]
  },
  {
   "cell_type": "code",
   "execution_count": null,
   "metadata": {},
   "outputs": [],
   "source": [
    "#overrepresentation = pd.Series(data = customers_prediction, index = customers.columns)\n",
    "\n",
    "overrepresentation = pd.Series(data = center_2, index = customers_final.columns)"
   ]
  },
  {
   "cell_type": "code",
   "execution_count": null,
   "metadata": {},
   "outputs": [],
   "source": [
    "sorted_over = overrepresentation.sort_values(ascending=False)\n",
    "sorted_over"
   ]
  },
  {
   "cell_type": "code",
   "execution_count": null,
   "metadata": {},
   "outputs": [],
   "source": [
    "# What kinds of people are part of a cluster that is underrepresented in the\n",
    "# customer data compared to the general population?\n",
    "\n",
    "center_7 = standard_scaler.inverse_transform(pca_40.inverse_transform(kmeans_model.cluster_centers_[7]))"
   ]
  },
  {
   "cell_type": "code",
   "execution_count": null,
   "metadata": {},
   "outputs": [],
   "source": [
    "underrepresentation = pd.Series(data = center_7, index = customers_final.columns)"
   ]
  },
  {
   "cell_type": "code",
   "execution_count": null,
   "metadata": {},
   "outputs": [],
   "source": [
    "sorted_under = overrepresentation.sort_values(ascending=True)\n",
    "sorted_under"
   ]
  },
  {
   "cell_type": "markdown",
   "metadata": {},
   "source": [
    "### Discussion 3.3: Compare Customer Data to Demographics Data"
   ]
  },
  {
   "cell_type": "markdown",
   "metadata": {},
   "source": [
    "#### Overrepresented Cluster\n",
    "The mail-order sales company may particularly fair will outreach to with people who are were born around 1993, live in the Central Business district, have lived in the same location for more than 7 years, or in area 1-2 people living in the home.\n",
    "\n",
    "Over Attribute Name\t            Value\t          Meaning\n",
    "\n",
    "MIN_GEBAEUDEJAHR               1992               Building Construction year\n",
    "\n",
    "ANZ_HAUSHALTE_AKTIV            16.039234          Active housholds\n",
    "\n",
    "ANZ_PERSONEN                   1.432340           Amount of people on home\n",
    "\n",
    "WOHNDAUER_2008                 7.171563           Length of time living at current place\n",
    "\n",
    "INNENSTADT                     5.392233           Central business district"
   ]
  },
  {
   "cell_type": "markdown",
   "metadata": {},
   "source": [
    "#### Underrepresented Cluster\n",
    "The mail-order sales company should probably avoid marketing campaigns toward the population who is educated or holds an academic title, lives in large homes, lives in West Germany, and is green initiatie conscious. \n",
    "\n",
    "\n",
    "Under Attribute Name      Value         Meaning\n",
    "\n",
    "ANZ_TITEL               0.001640     Academic/professional titles\n",
    "\n",
    "ANZ_HH_TITEL            0.016770     Academic/professional titles in a household\n",
    "\n",
    "KBA05_ANTG4             0.606939     4 or more buildings\n",
    "\n",
    "OST_WEST_KZ             3.166700     West Germany\n",
    "\n",
    "GREEN_AVANTGARDE        0.123577     Attitude toward green initiatives"
   ]
  },
  {
   "cell_type": "markdown",
   "metadata": {},
   "source": [
    "> Congratulations on making it this far in the project! Before you finish, make sure to check through the entire notebook from top to bottom to make sure that your analysis follows a logical flow and all of your findings are documented in **Discussion** cells. Once you've checked over all of your work, you should export the notebook as an HTML document to submit for evaluation. You can do this from the menu, navigating to **File -> Download as -> HTML (.html)**. You will submit both that document and this notebook for your project submission."
   ]
  }
 ],
 "metadata": {
  "kernelspec": {
   "display_name": "Python 3",
   "language": "python",
   "name": "python3"
  },
  "language_info": {
   "codemirror_mode": {
    "name": "ipython",
    "version": 3
   },
   "file_extension": ".py",
   "mimetype": "text/x-python",
   "name": "python",
   "nbconvert_exporter": "python",
   "pygments_lexer": "ipython3",
   "version": "3.6.3"
  }
 },
 "nbformat": 4,
 "nbformat_minor": 2
}
